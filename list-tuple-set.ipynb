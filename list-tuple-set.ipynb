{
 "cells": [
  {
   "cell_type": "markdown",
   "metadata": {},
   "source": [
    "# list列表\n",
    "- 一组有序数据组成的序列\n",
    "    - 数据有先后顺序\n",
    "    - 数据可以不是一个类型\n",
    "- list的创建"
   ]
  },
  {
   "cell_type": "markdown",
   "metadata": {},
   "source": [
    "# python中的内置函数\n",
    "- str\n",
    "- list\n",
    "- tuple\n",
    "- set\n",
    "- dict"
   ]
  },
  {
   "cell_type": "code",
   "execution_count": 2,
   "metadata": {},
   "outputs": [
    {
     "name": "stdout",
     "output_type": "stream",
     "text": [
      "[1, 2, 3, 4, 5]\n",
      "[1, 2, 3, 'zyb']\n"
     ]
    }
   ],
   "source": [
    "# 直接赋值创造列表\n",
    "L1 = [1,2,3,4,5]\n",
    "L2 = [1,2,3,\"zyb\"]\n",
    "\n",
    "print(L1)\n",
    "print(L2)"
   ]
  },
  {
   "cell_type": "code",
   "execution_count": 5,
   "metadata": {},
   "outputs": [
    {
     "name": "stdout",
     "output_type": "stream",
     "text": [
      "[]\n",
      "<class 'list'>\n"
     ]
    }
   ],
   "source": [
    "# 创建列表的第二种方式\n",
    "L3 = list()\n",
    "print(L3)\n",
    "print( type(L3))"
   ]
  },
  {
   "cell_type": "code",
   "execution_count": 7,
   "metadata": {},
   "outputs": [
    {
     "name": "stdout",
     "output_type": "stream",
     "text": [
      "<class 'list'>\n",
      "['Z', 'h', 'a', 'n', 'g', ' ', 'Y', 'u', 'b', 'i', 'n']\n"
     ]
    }
   ],
   "source": [
    "# list创建的特例演示\n",
    "s = \"Zhang Yubin\"\n",
    "\n",
    "L1 =list(s)\n",
    "print(type(L1))\n",
    "print(L1)"
   ]
  },
  {
   "cell_type": "markdown",
   "metadata": {},
   "source": [
    "# 列表的常见操作\n",
    "- 访问\n",
    "    - 使用下标操作，也叫索引\n",
    "    - 列表的元素索引是从0开始的\n",
    "- 切片操作\n",
    "    - 对列表任意一段进行截取\n",
    "    - 切片操作是生成一个新的列表"
   ]
  },
  {
   "cell_type": "code",
   "execution_count": 12,
   "metadata": {},
   "outputs": [
    {
     "name": "stdout",
     "output_type": "stream",
     "text": [
      "353\n"
     ]
    }
   ],
   "source": [
    "L1 = [32,43,22,353,322,4]\n",
    "# 使用下标访问\n",
    "# 记住IndexError引发的原因\n",
    "print(L1[3])"
   ]
  },
  {
   "cell_type": "code",
   "execution_count": 25,
   "metadata": {},
   "outputs": [
    {
     "name": "stdout",
     "output_type": "stream",
     "text": [
      "[2, 3, 4, 5, 6]\n",
      "2471667677512\n",
      "2471666913032\n",
      "[1, 2, 3, 4]\n",
      "[6, 7, 8, 9, 10]\n",
      "[1, 2, 3, 4, 5, 6, 7, 8, 9, 10]\n"
     ]
    }
   ],
   "source": [
    "# 切片操作取值范围，左包括右不包括\n",
    "L1 = [1,2,3,4,5,6,7,8,9,10]\n",
    "# 对比打印结果跟下标的值\n",
    "print(L1[1:6])\n",
    "\n",
    "# id 的作用是用来判断两个变量是否是一个变量\n",
    "L2 = L1[0:10]\n",
    "print(id(L1))\n",
    "print(id(L2))\n",
    "\n",
    "# 切片的下标可以为空\n",
    "print(L1[:4])\n",
    "print(L1[5:])\n",
    "print(L1[:])"
   ]
  },
  {
   "cell_type": "code",
   "execution_count": 26,
   "metadata": {},
   "outputs": [
    {
     "name": "stdout",
     "output_type": "stream",
     "text": [
      "[1, 2, 3, 4, 5, 6, 7, 8, 9, 10]\n",
      "[1, 3, 5, 7, 9]\n"
     ]
    }
   ],
   "source": [
    "# 分片可以控制增长幅度\n",
    "print(L1[::1]) # 等于print(L1[:])\n",
    "print(L1[::2])"
   ]
  },
  {
   "cell_type": "code",
   "execution_count": 27,
   "metadata": {},
   "outputs": [
    {
     "name": "stdout",
     "output_type": "stream",
     "text": [
      "[1, 2, 3, 4, 5, 6, 7, 8, 9, 10]\n"
     ]
    }
   ],
   "source": [
    "# 下标可以超出范围，超出后不在考虑多余下标内容\n",
    "print(L1[:100])"
   ]
  },
  {
   "cell_type": "code",
   "execution_count": 28,
   "metadata": {},
   "outputs": [
    {
     "name": "stdout",
     "output_type": "stream",
     "text": [
      "[]\n",
      "[9, 8, 7]\n",
      "[7, 8, 9]\n"
     ]
    }
   ],
   "source": [
    "# 下标值，增长幅度可以为负数\n",
    "# 下标为负，表明顺序从右到左\n",
    "# 规定：数组最后一个数字的下标是-1\n",
    "\n",
    "# 下面例子为空，因为默认是从左向右移动\n",
    "print(L1[-2:-5])\n",
    "\n",
    "# 真确案例\n",
    "print(L1[-2:-5:-1])\n",
    "\n",
    "# 顺序7,8,9\n",
    "print(L1[-4:-1:1])"
   ]
  },
  {
   "cell_type": "code",
   "execution_count": 47,
   "metadata": {},
   "outputs": [
    {
     "name": "stdout",
     "output_type": "stream",
     "text": [
      "1619528416840\n",
      "1619528416840\n",
      "[1, 2, 4, 5, 6]\n"
     ]
    }
   ],
   "source": [
    "# del:删除命令\n",
    "# 查看删除了一个元素后，id是不是还一样\n",
    "a = [1,2,3,4,5,6]\n",
    "print(id(a))\n",
    "del a[2]\n",
    "print(id(a))\n",
    "print(a)"
   ]
  },
  {
   "cell_type": "code",
   "execution_count": 50,
   "metadata": {},
   "outputs": [
    {
     "name": "stdout",
     "output_type": "stream",
     "text": [
      "[1, 2, 4, 5, 6]\n",
      "1619528416840\n",
      "[]\n",
      "1619528416840\n"
     ]
    }
   ],
   "source": [
    "# clear:清空\n",
    "print(a)\n",
    "print(id(a))\n",
    "\n",
    "a.clear()\n",
    "print(a)\n",
    "print(id(a))\n",
    "# clear是在原列表上做操作清空列表"
   ]
  },
  {
   "cell_type": "code",
   "execution_count": 51,
   "metadata": {},
   "outputs": [
    {
     "name": "stdout",
     "output_type": "stream",
     "text": [
      "[1, 2, 3, 4, 5, 6]\n",
      "1619527494856\n",
      "[6, 5, 4, 3, 2, 1]\n",
      "1619527494856\n"
     ]
    }
   ],
   "source": [
    "# reverse:翻转\n",
    "a = [1,2,3,4,5,6]\n",
    "print(a)\n",
    "print(id(a))\n",
    "\n",
    "a.reverse()\n",
    "\n",
    "print(a)\n",
    "print(id(a))"
   ]
  },
  {
   "cell_type": "code",
   "execution_count": 52,
   "metadata": {},
   "outputs": [
    {
     "name": "stdout",
     "output_type": "stream",
     "text": [
      "[1, 2, 3, 4, 5]\n",
      "1619528336456\n",
      "[1, 2, 3, 4, 5, 6, 7, 8, 9, 10]\n",
      "1619528336456\n"
     ]
    }
   ],
   "source": [
    "# extend:扩展列表，两个列表。把一个直接拼到另一个上\n",
    "a = [1,2,3,4,5]\n",
    "b = [6,7,8,9,10]\n",
    "print(a)\n",
    "print(id(a))\n",
    "\n",
    "a.extend(b)\n",
    "\n",
    "print(a)\n",
    "print(id(a))"
   ]
  },
  {
   "cell_type": "code",
   "execution_count": 62,
   "metadata": {},
   "outputs": [
    {
     "name": "stdout",
     "output_type": "stream",
     "text": [
      "[1, 2, 8, 3, 4, 8, 8, 8, 8, 5, 6, 7, 8, 9, 10, 8, 8, 8, 8, 8, 8, 8, 8, 8]\n",
      "[1, 2, 8, 3, 8, 4, 8, 8, 8, 8, 5, 6, 7, 8, 9, 10, 8, 8, 8, 8, 8, 8, 8, 8, 8, 8]\n",
      "17\n"
     ]
    }
   ],
   "source": [
    "# count:查找列表指定值或者元素的个数\n",
    "print(a)\n",
    "a.append(8)\n",
    "a.insert(4, 8)\n",
    "\n",
    "print(a)\n",
    "a_len = a.count(8)\n",
    "print(a_len)"
   ]
  },
  {
   "cell_type": "code",
   "execution_count": 67,
   "metadata": {},
   "outputs": [
    {
     "name": "stdout",
     "output_type": "stream",
     "text": [
      "[1, 2, 3, 4, 5, 666]\n",
      "[1, 2, 3, 777, 5, 666]\n",
      "[1, 2, 3, 777, 5, 666]\n",
      "1619527795016\n",
      "********************\n",
      "[1, 2, 3, 777, 5, 666]\n",
      "1619527795016\n",
      "[1, 2, 3, 777, 5, 666]\n",
      "1619526318728\n",
      "******************************\n",
      "[1, 2, 3, 777, 5, 666]\n",
      "[1, 2, 3, 888, 5, 666]\n"
     ]
    }
   ],
   "source": [
    "# copy:拷贝，浅拷贝，传值\n",
    "\n",
    "# 列表类型变量赋值实例\n",
    "\n",
    "a = [1,2,3,4,5,666]\n",
    "print(a)\n",
    "# list是类型，\n",
    "b = a \n",
    "b[3] = 777\n",
    "print(a)\n",
    "print(b)\n",
    "print(id(b))\n",
    "\n",
    "print(\"*\" * 20)\n",
    "\n",
    "# 为了解决以上问题，list赋值要采用copy 函数\n",
    "b = a.copy()\n",
    "print(a)\n",
    "print(id(a))\n",
    "print(b)\n",
    "print(id(b))\n",
    "\n",
    "print(\"*\" * 30)\n",
    "b[3] = 888\n",
    "print(a)\n",
    "print(b)"
   ]
  },
  {
   "cell_type": "code",
   "execution_count": 68,
   "metadata": {},
   "outputs": [
    {
     "name": "stdout",
     "output_type": "stream",
     "text": [
      "1619526955464\n",
      "1619527494408\n",
      "1619526956360\n",
      "1619526956360\n",
      "[1, 2, 3, [10, 20, 666]]\n",
      "[1, 2, 3, [10, 20, 666]]\n"
     ]
    }
   ],
   "source": [
    "# 深拷贝与浅拷贝的区别\n",
    "# 深拷贝需要特定的工具\n",
    "a = [1,2,3,[10,20,30]]\n",
    "b = a.copy()\n",
    "print(id(a))\n",
    "print(id(b))\n",
    "print(id(a[3]))\n",
    "print(id(b[3]))\n",
    "a[3][2] = 666\n",
    "print(a)\n",
    "print(b)"
   ]
  },
  {
   "cell_type": "markdown",
   "metadata": {},
   "source": [
    "# 列表相加\n",
    "- 使用加号连接两个列表"
   ]
  },
  {
   "cell_type": "code",
   "execution_count": 33,
   "metadata": {},
   "outputs": [
    {
     "name": "stdout",
     "output_type": "stream",
     "text": [
      "[1, 2, 3, 4, 5, 5, 6, 7, 8, 9, 'a', 'b', 'c']\n"
     ]
    }
   ],
   "source": [
    "a = [1,2,3,4,5]\n",
    "b = [5,6,7,8,9]\n",
    "d = ['a','b','c']\n",
    "c = a + b + d\n",
    "print(c)\n"
   ]
  },
  {
   "cell_type": "code",
   "execution_count": 34,
   "metadata": {},
   "outputs": [
    {
     "name": "stdout",
     "output_type": "stream",
     "text": [
      "[1, 2, 3, 4, 5, 1, 2, 3, 4, 5, 1, 2, 3, 4, 5]\n"
     ]
    }
   ],
   "source": [
    "# 使用乘号操作列表\n",
    "# 列表直接和一个整数相乘\n",
    "# 相当于把n个课表连接在一起\n",
    "a  = [1,2,3,4,5]\n",
    "b = a * 3\n",
    "print(b)"
   ]
  },
  {
   "cell_type": "code",
   "execution_count": 36,
   "metadata": {
    "scrolled": true
   },
   "outputs": [
    {
     "name": "stdout",
     "output_type": "stream",
     "text": [
      "False\n",
      "True\n",
      "True\n"
     ]
    }
   ],
   "source": [
    "# 成员资格运算\n",
    "a = [1,2,3,4,5,6]\n",
    "\n",
    "b = 8\n",
    "c = b in a \n",
    "print(c)\n",
    "\n",
    "b = 4\n",
    "print(b in a)\n",
    "\n",
    "b = 9 \n",
    "print(b not in a)"
   ]
  },
  {
   "cell_type": "markdown",
   "metadata": {},
   "source": [
    "# 列表的遍历\n",
    "- for\n",
    "- while"
   ]
  },
  {
   "cell_type": "code",
   "execution_count": 37,
   "metadata": {},
   "outputs": [
    {
     "name": "stdout",
     "output_type": "stream",
     "text": [
      "1\n",
      "2\n",
      "3\n",
      "4\n",
      "5\n"
     ]
    }
   ],
   "source": [
    "# for in list\n",
    "a = [1,2,3,4,5]\n",
    "\n",
    "for i in a:\n",
    "    print(i)"
   ]
  },
  {
   "cell_type": "code",
   "execution_count": 44,
   "metadata": {},
   "outputs": [
    {
     "name": "stdout",
     "output_type": "stream",
     "text": [
      "['I am your dad']\n"
     ]
    }
   ],
   "source": [
    "# 把列表里的所有元素挨个的打出来\n",
    "b = [\"I am your dad\"]\n",
    "for i in b:\n",
    "    print(i)"
   ]
  },
  {
   "cell_type": "code",
   "execution_count": 42,
   "metadata": {},
   "outputs": [
    {
     "name": "stdout",
     "output_type": "stream",
     "text": [
      "1\n",
      "2\n",
      "3\n",
      "4\n",
      "5\n",
      "6\n",
      "7\n",
      "8\n",
      "9\n",
      "<class 'range'>\n"
     ]
    }
   ],
   "source": [
    "# range\n",
    "# in 后面的变量要求是可迭代的\n",
    "for i in range(1,10):\n",
    "    print(i)\n",
    "    \n",
    "print(type(range(1,10)))"
   ]
  },
  {
   "cell_type": "code",
   "execution_count": 43,
   "metadata": {},
   "outputs": [
    {
     "name": "stdout",
     "output_type": "stream",
     "text": [
      "1\n",
      "2\n",
      "3\n",
      "4\n",
      "5\n",
      "6\n"
     ]
    }
   ],
   "source": [
    "# while循环访问list\n",
    "# 一般不用,麻烦 \n",
    "\n",
    "a = [1,2,3,4,5,6]\n",
    "length = len(a)\n",
    "# indx 表示的是list的下标\n",
    "indx = 0 \n",
    "while indx < length:\n",
    "    print(a[indx])\n",
    "    indx += 1"
   ]
  },
  {
   "cell_type": "code",
   "execution_count": 44,
   "metadata": {},
   "outputs": [
    {
     "name": "stdout",
     "output_type": "stream",
     "text": [
      "one --- 1\n",
      "two --- 2\n",
      "three --- 3\n"
     ]
    }
   ],
   "source": [
    "# 双层列表循环\n",
    "a = [[\"one\",1],[\"two\",2],[\"three\",3] ]\n",
    "for k,v in a:\n",
    "    print(k,\"---\",v)"
   ]
  },
  {
   "cell_type": "code",
   "execution_count": 1,
   "metadata": {},
   "outputs": [
    {
     "name": "stdout",
     "output_type": "stream",
     "text": [
      "one --- 1 --- eins\n",
      "two --- 2 --- zwei\n",
      "three --- 3 --- drei\n"
     ]
    }
   ],
   "source": [
    "# 双层列表循环变异\n",
    "a = [[\"one\",1,\"eins\"],[\"two\",2,\"zwei\"],[\"three\",3,\"drei\"] ]\n",
    "for k,v,w in a:\n",
    "    print(k,\"---\",v,\"---\",w)"
   ]
  },
  {
   "cell_type": "markdown",
   "metadata": {},
   "source": [
    "# 列表内涵 list content\n",
    "- 通过简单的方法创造列表"
   ]
  },
  {
   "cell_type": "code",
   "execution_count": 4,
   "metadata": {},
   "outputs": [
    {
     "name": "stdout",
     "output_type": "stream",
     "text": [
      "['a', 'b', 'c']\n"
     ]
    }
   ],
   "source": [
    "# for 创建\n",
    "a = ['a','b','c']\n",
    "b = [i for i in a]\n",
    "print(b)"
   ]
  },
  {
   "cell_type": "code",
   "execution_count": 5,
   "metadata": {},
   "outputs": [
    {
     "name": "stdout",
     "output_type": "stream",
     "text": [
      "['aaaaaaaaaa', 'bbbbbbbbbb', 'cccccccccc']\n"
     ]
    }
   ],
   "source": [
    "# for 创建\n",
    "# 对a中所以元素乘以10，生成一个新的list\n",
    "a = ['a','b','c']\n",
    "b = [i * 10 for i in a]\n",
    "print(b)"
   ]
  },
  {
   "cell_type": "code",
   "execution_count": 6,
   "metadata": {},
   "outputs": [
    {
     "name": "stdout",
     "output_type": "stream",
     "text": [
      "[2, 4, 6, 8, 10, 12, 14, 16, 18, 20, 22, 24, 26, 28, 30, 32, 34]\n"
     ]
    }
   ],
   "source": [
    "# 还可以过滤原来list中的内容放入新列表\n",
    "a = [x for x in range(1,35)]\n",
    "b = [m for m in a if m % 2 ==0]\n",
    "\n",
    "print(b)"
   ]
  },
  {
   "cell_type": "code",
   "execution_count": 18,
   "metadata": {},
   "outputs": [
    {
     "name": "stdout",
     "output_type": "stream",
     "text": [
      "[1, 2, 3]\n",
      "[100, 200, 300]\n",
      "[101, 201, 301, 102, 202, 302, 103, 203, 303]\n",
      "101  201  301  102  202  302  103  203  303  \n",
      "[101, 201, 102, 202, 103, 203]\n"
     ]
    }
   ],
   "source": [
    "# 列表生成式嵌套\n",
    "\n",
    "a = [i for i in range(1,4)]\n",
    "print(a)\n",
    "\n",
    "b = [i for i in range(100,400) if i % 100 ==0 ]\n",
    "print(b)\n",
    "\n",
    "# 列表生成是可以嵌套的\n",
    "c = [ m+n for m in a for n in b]\n",
    "print(c)\n",
    "\n",
    "# 上面代码和下面等价\n",
    "for m in a:\n",
    "    for n in b:\n",
    "        print(m+n ,end = \"  \")\n",
    "print()\n",
    "\n",
    "# 嵌套生成的表达式也可以用条件表达式\n",
    "c = [ m+n for m in a for n in b if m+n < 250]\n",
    "print(c)"
   ]
  },
  {
   "cell_type": "markdown",
   "metadata": {},
   "source": [
    "# 关于列表的常用函数"
   ]
  },
  {
   "cell_type": "code",
   "execution_count": 19,
   "metadata": {},
   "outputs": [
    {
     "name": "stdout",
     "output_type": "stream",
     "text": [
      "99\n",
      "99\n",
      "python\n"
     ]
    }
   ],
   "source": [
    "# len:求列表长度\n",
    "a = [x for x in range(1,100)]\n",
    "print(len(a))\n",
    "\n",
    "# max:求最大值\n",
    "print(max(a))\n",
    "\n",
    "b = ['man','film','python']\n",
    "print(max(b))"
   ]
  },
  {
   "cell_type": "code",
   "execution_count": 20,
   "metadata": {},
   "outputs": [
    {
     "name": "stdout",
     "output_type": "stream",
     "text": [
      "[1, 2, 3]\n"
     ]
    }
   ],
   "source": [
    "# list:将其他格式的数据转换成list\n",
    "a = [1,2,3]\n",
    "print(list(a))"
   ]
  },
  {
   "cell_type": "code",
   "execution_count": 21,
   "metadata": {},
   "outputs": [
    {
     "name": "stdout",
     "output_type": "stream",
     "text": [
      "['I', ' ', 'a', 'm', ' ', 'y', 'o', 'u', 'r', ' ', 'd', 'a', 'd', ',', ' ', 'f', 'u', 'c', 'k', ' ', 'y', 'o', 'u', 'r', ' ', 'm', 'o', 'n', 't', 'h', 'e', 'r']\n"
     ]
    }
   ],
   "source": [
    "s = \"I am your dad, fuck your monther\"\n",
    "print(list(s))"
   ]
  },
  {
   "cell_type": "code",
   "execution_count": 22,
   "metadata": {},
   "outputs": [
    {
     "name": "stdout",
     "output_type": "stream",
     "text": [
      "[12, 13, 14, 15, 16, 17, 18]\n"
     ]
    }
   ],
   "source": [
    "# 把range产生的内容转换成list\n",
    "print(list(range(12,19)))"
   ]
  },
  {
   "cell_type": "code",
   "execution_count": 39,
   "metadata": {},
   "outputs": [
    {
     "name": "stdout",
     "output_type": "stream",
     "text": [
      "[1, 3, 4, 5, 6]\n",
      "[1, 3, 360, 5, 6]\n",
      "[1, 3, 360, 5, 6]\n",
      "9\n",
      "109\n",
      "9\n"
     ]
    }
   ],
   "source": [
    "# 传值与传址的区别\n",
    "# 复杂变量采用传址\n",
    "def a(n):\n",
    "    n[2] = 360\n",
    "    print(n)\n",
    "    return None\n",
    "\n",
    "def b(n):\n",
    "    n += 100\n",
    "    print(n)\n",
    "    return None\n",
    "\n",
    "an = [1,3,4,5,6]\n",
    "bn = 9\n",
    "\n",
    "print(an)\n",
    "a(an)\n",
    "print(an)\n",
    "\n",
    "print(bn)\n",
    "b(bn)\n",
    "print(bn)"
   ]
  },
  {
   "cell_type": "markdown",
   "metadata": {},
   "source": [
    "# 列表的函数"
   ]
  },
  {
   "cell_type": "code",
   "execution_count": 41,
   "metadata": {},
   "outputs": [
    {
     "name": "stdout",
     "output_type": "stream",
     "text": [
      "[1, 2, 3, 4]\n",
      "[1, 2, 3, 4, 100]\n"
     ]
    }
   ],
   "source": [
    "# append插入一个内容  在末尾追加\n",
    "a = [ i for i in range(1,5)]\n",
    "print(a)\n",
    "a.append(100)\n",
    "print(a)"
   ]
  },
  {
   "cell_type": "code",
   "execution_count": 42,
   "metadata": {},
   "outputs": [
    {
     "name": "stdout",
     "output_type": "stream",
     "text": [
      "[1, 2, 3, 4, 100]\n",
      "[1, 2, 3, 666, 4, 100]\n"
     ]
    }
   ],
   "source": [
    "# insert:指定位置插入\n",
    "# insert(index,data),插入位置是index前面\n",
    "print(a)\n",
    "a.insert(3,666)\n",
    "print(a)"
   ]
  },
  {
   "cell_type": "code",
   "execution_count": 43,
   "metadata": {},
   "outputs": [
    {
     "name": "stdout",
     "output_type": "stream",
     "text": [
      "[1, 2, 3, 666, 4, 100]\n",
      "100\n",
      "[1, 2, 3, 666, 4]\n"
     ]
    }
   ],
   "source": [
    "# pop,拿出最后一个元素，即删除最后一个元素\n",
    "print(a)\n",
    "last_else = a.pop()\n",
    "print(last_else)\n",
    "print(a)"
   ]
  },
  {
   "cell_type": "markdown",
   "metadata": {},
   "source": [
    "# tuple(元组)\n",
    "- 不允许更改的列表\n"
   ]
  },
  {
   "cell_type": "code",
   "execution_count": 29,
   "metadata": {},
   "outputs": [
    {
     "name": "stdout",
     "output_type": "stream",
     "text": [
      "<class 'tuple'>\n",
      "<class 'int'>\n",
      "<class 'tuple'>\n",
      "<class 'tuple'>\n",
      "<class 'tuple'>\n",
      "<class 'tuple'>\n"
     ]
    }
   ],
   "source": [
    "# tuple的创建\n",
    "\n",
    "# 1. 直接用小括号\n",
    "ta = ()\n",
    "print(type(ta))\n",
    "\n",
    "tb = (100)\n",
    "print(type(tb))\n",
    "\n",
    "tc = (100,)\n",
    "print(type(tc))\n",
    "\n",
    "# 直接用逗号\n",
    "ta = 100,\n",
    "print(type(ta))\n",
    "tb = 100,200,300,\n",
    "print(type(tb))\n",
    "\n",
    "# 使用tuple定义\n",
    "ta = tuple()\n",
    "print(type(ta))\n"
   ]
  },
  {
   "cell_type": "markdown",
   "metadata": {},
   "source": [
    "# tuple其余特征和list基本一致\n",
    "- 有序\n",
    "- 可以访问不可以被修改(内容不可以修改）\n",
    "- 元素可以是任意类型"
   ]
  },
  {
   "cell_type": "code",
   "execution_count": 70,
   "metadata": {},
   "outputs": [
    {
     "name": "stdout",
     "output_type": "stream",
     "text": [
      "['i', 'like', 'xjj']\n",
      "xjj\n"
     ]
    }
   ],
   "source": [
    "# tuple索引操作\n",
    "la = [\"i\",\"like\",\"xjj\"]\n",
    "print(la)\n",
    "\n",
    "ta =tuple(la)\n",
    "print(ta[2])"
   ]
  },
  {
   "cell_type": "code",
   "execution_count": 72,
   "metadata": {},
   "outputs": [
    {
     "name": "stdout",
     "output_type": "stream",
     "text": [
      "('i', 'like', 'xjj')\n",
      "('i', 'like')\n",
      "('xjj', 'like', 'i')\n",
      "('i', 'like', 'xjj')\n"
     ]
    }
   ],
   "source": [
    "# tuple分片操作\n",
    "print(ta[:])\n",
    "print(ta[:2])\n",
    "print(ta[-1::-1])\n",
    "# 切片可以超标\n",
    "print(ta[:100])"
   ]
  },
  {
   "cell_type": "code",
   "execution_count": 73,
   "metadata": {},
   "outputs": [
    {
     "name": "stdout",
     "output_type": "stream",
     "text": [
      "(100, 200, 300, 'i', 'like', 'xjj')\n"
     ]
    }
   ],
   "source": [
    "# 元组的相加\n",
    "ta = 100,200,300,\n",
    "tb = (\"i\",\"like\",\"xjj\")\n",
    "tc =ta + tb\n",
    "print(tc)"
   ]
  },
  {
   "cell_type": "code",
   "execution_count": 76,
   "metadata": {},
   "outputs": [
    {
     "name": "stdout",
     "output_type": "stream",
     "text": [
      "(100, 200, 300)\n",
      "1619527680144\n",
      "(100, 200, 300, 'i', 'like', 'xjj')\n",
      "1619527245160\n"
     ]
    }
   ],
   "source": [
    "# 元组的相加的传址操作\n",
    "ta = 100,200,300,\n",
    "tb = (\"i\",\"like\",\"xjj\")\n",
    "print(ta)\n",
    "print(id(ta))\n",
    "\n",
    "ta =ta + tb\n",
    "print(ta)\n",
    "print(id(ta))"
   ]
  },
  {
   "cell_type": "code",
   "execution_count": 77,
   "metadata": {},
   "outputs": [
    {
     "name": "stdout",
     "output_type": "stream",
     "text": [
      "('i', 'like', 'xjj', 'i', 'like', 'xjj')\n"
     ]
    }
   ],
   "source": [
    "# tuple 乘法\n",
    "tc =tb * 2\n",
    "print(tc)"
   ]
  },
  {
   "cell_type": "code",
   "execution_count": 35,
   "metadata": {},
   "outputs": [
    {
     "name": "stdout",
     "output_type": "stream",
     "text": [
      "('i', 'like', 'xjj')\n",
      "对的\n"
     ]
    }
   ],
   "source": [
    "# tuple 成员检测\n",
    "print(tb)\n",
    "if \"like\" in tb:\n",
    "    print(\"对的\")\n",
    "\n",
    "if \"like\" not in tb:\n",
    "    print(\"哼\")"
   ]
  },
  {
   "cell_type": "code",
   "execution_count": 36,
   "metadata": {},
   "outputs": [
    {
     "name": "stdout",
     "output_type": "stream",
     "text": [
      "i\n",
      "like\n",
      "xjj\n"
     ]
    }
   ],
   "source": [
    "# 元组遍历，一般采用for\n",
    "for i in tb:\n",
    "    print(i)"
   ]
  },
  {
   "cell_type": "code",
   "execution_count": 78,
   "metadata": {},
   "outputs": [
    {
     "name": "stdout",
     "output_type": "stream",
     "text": [
      "(10, 20, 30)\n",
      "10\n",
      "20\n",
      "30\n",
      "('i', 'like', 'xjj')\n",
      "i\n",
      "like\n",
      "xjj\n",
      "(100, 200, 300)\n",
      "100\n",
      "200\n",
      "300\n",
      "10 -- 20 -- 30\n",
      "i -- like -- xjj\n",
      "100 -- 200 -- 300\n"
     ]
    }
   ],
   "source": [
    "ta = ((10,20,30),(\"i\",\"like\",\"xjj\"),(100,200,300))\n",
    "# 嵌套元组的访问\n",
    "# 双层循环访问\n",
    "for i in ta:\n",
    "    print(i)\n",
    "    for j in i:\n",
    "        print(j)\n",
    "        \n",
    "# 单层循环\n",
    "for i,j,k in ta:\n",
    "    print(i,\"--\",j,\"--\",k)"
   ]
  },
  {
   "cell_type": "code",
   "execution_count": 39,
   "metadata": {},
   "outputs": [
    {
     "name": "stdout",
     "output_type": "stream",
     "text": [
      "7\n",
      "76\n"
     ]
    }
   ],
   "source": [
    "# 常见元组函数\n",
    "# len: 长度\n",
    "ta = (1,43,55,76,8,33,8)\n",
    "print(len(ta))\n",
    "# max:最大值\n",
    "print(max(ta))"
   ]
  },
  {
   "cell_type": "code",
   "execution_count": 43,
   "metadata": {},
   "outputs": [
    {
     "name": "stdout",
     "output_type": "stream",
     "text": [
      "6\n",
      "4\n"
     ]
    }
   ],
   "source": [
    "# count:对某一元素计数\n",
    "ta = (1,2,3,4,5,6,7,1,1,1,1,1)\n",
    "print(ta.count(1))\n",
    "# index:某一元素所在位置\n",
    "print(ta.index(5))"
   ]
  },
  {
   "cell_type": "code",
   "execution_count": 44,
   "metadata": {},
   "outputs": [
    {
     "name": "stdout",
     "output_type": "stream",
     "text": [
      "Zhang Yubin 100\n"
     ]
    }
   ],
   "source": [
    "# tuple的特殊用法\n",
    "a = 100\n",
    "b =\"Zhang Yubin\"\n",
    "# 对a,b值进行互换\n",
    "# 此种用法只适合python\n",
    "a, b = b, a\n",
    "print(a,b)"
   ]
  },
  {
   "cell_type": "markdown",
   "metadata": {},
   "source": [
    "# 关于元组的函数"
   ]
  },
  {
   "cell_type": "code",
   "execution_count": 80,
   "metadata": {},
   "outputs": [
    {
     "data": {
      "text/plain": [
       "5"
      ]
     },
     "execution_count": 80,
     "metadata": {},
     "output_type": "execute_result"
    }
   ],
   "source": [
    "# len:获取元组的长度\n",
    "t = (1,2,3,4,5)\n",
    "len(t)"
   ]
  },
  {
   "cell_type": "code",
   "execution_count": 81,
   "metadata": {},
   "outputs": [
    {
     "name": "stdout",
     "output_type": "stream",
     "text": [
      "5\n",
      "1\n"
     ]
    }
   ],
   "source": [
    "# max ,min:最大值，最小值\n",
    "print(max(t))\n",
    "print(min(t))"
   ]
  },
  {
   "cell_type": "code",
   "execution_count": 82,
   "metadata": {},
   "outputs": [
    {
     "name": "stdout",
     "output_type": "stream",
     "text": [
      "()\n"
     ]
    }
   ],
   "source": [
    "#tuple:创建元组\n",
    "t = tuple()\n",
    "print(t)"
   ]
  },
  {
   "cell_type": "markdown",
   "metadata": {},
   "source": [
    "# 元组变量交换法\n"
   ]
  },
  {
   "cell_type": "code",
   "execution_count": 83,
   "metadata": {},
   "outputs": [
    {
     "name": "stdout",
     "output_type": "stream",
     "text": [
      "1\n",
      "3\n",
      "3\n",
      "1\n",
      "********************\n",
      "1\n",
      "3\n"
     ]
    }
   ],
   "source": [
    "# 两个变量交换值\n",
    "a = 1\n",
    "b = 3\n",
    "print(a)\n",
    "print(b)\n",
    "\n",
    "# java写法\n",
    "c = a\n",
    "a = b \n",
    "b = c\n",
    "\n",
    "print(a)\n",
    "print(b)\n",
    "\n",
    "print(\"*\" * 20)\n",
    "\n",
    "# python写法\n",
    "a,b = b,a\n",
    "print(a)\n",
    "print(b)"
   ]
  },
  {
   "cell_type": "markdown",
   "metadata": {},
   "source": [
    "# 集合\n",
    "- 内容无序，内容不重复 "
   ]
  },
  {
   "cell_type": "code",
   "execution_count": 31,
   "metadata": {},
   "outputs": [
    {
     "name": "stdout",
     "output_type": "stream",
     "text": [
      "set()\n",
      "{1, 2, 3, 4, 5, 6, 7, 8, 9, 10}\n",
      "{256, 1, 2, 3, 4, 5, 6, 33, 7, 8, 9, 10, 567}\n"
     ]
    }
   ],
   "source": [
    "# 集合的定义\n",
    "# 通过set关键字\n",
    "sa = set()\n",
    "print(sa)\n",
    "\n",
    "li = [1,2,3,4,5,6,7,8,9,10,1,2,3,4,5]\n",
    "sb = set(li)\n",
    "print(sb)\n",
    "\n",
    "# 使用大括号，一定要有值\n",
    "sc = {1,2,3,4,5,6,256,33,567,7,8,9,10,1,2,3,4,5}\n",
    "print(sc)"
   ]
  },
  {
   "cell_type": "code",
   "execution_count": 32,
   "metadata": {},
   "outputs": [
    {
     "name": "stdout",
     "output_type": "stream",
     "text": [
      "2222\n",
      "256\n",
      "1\n",
      "2\n",
      "3\n",
      "4\n",
      "5\n",
      "6\n",
      "33\n",
      "7\n",
      "8\n",
      "9\n",
      "10\n",
      "567\n",
      "{256, 1, 2, 3, 4, 5, 6, 33, 7, 8, 9, 10, 567}\n"
     ]
    }
   ],
   "source": [
    "# in操作\n",
    "if 2 in sc:\n",
    "    print(2222)\n",
    "\n",
    "if 23 in sc:\n",
    "    print(44444)\n",
    "    \n",
    "for i in sc:\n",
    "    print(i)\n",
    "    \n",
    "print(sc)"
   ]
  },
  {
   "cell_type": "code",
   "execution_count": 33,
   "metadata": {},
   "outputs": [
    {
     "name": "stdout",
     "output_type": "stream",
     "text": [
      "4 5 6\n",
      "i like xjj\n",
      "1 2 3\n"
     ]
    }
   ],
   "source": [
    "# 集合的tuple便利\n",
    "\n",
    "sa = {(1,2,3),(4,5,6),(\"i\",\"like\",\"xjj\")}\n",
    "\n",
    "\n",
    "for i,j,k in sa:\n",
    "    print(i,j,k)"
   ]
  },
  {
   "cell_type": "code",
   "execution_count": 34,
   "metadata": {},
   "outputs": [
    {
     "name": "stdout",
     "output_type": "stream",
     "text": [
      "{1, 2, 3, 4, 5, 6, 7, 8, 9, 10}\n",
      "{2, 4, 6, 8, 10}\n",
      "{64, 1, 4, 36, 100, 9, 16, 49, 81, 25}\n",
      "{1, 2, 3, 4, 5, 6, 7, 8, 9, 10, 12, 14, 15, 16, 18, 20, 21, 24, 25, 27, 28, 30, 32, 35, 36, 40, 42, 45, 48, 49, 50, 54, 56, 60, 63, 64, 70, 72, 80, 81, 90, 100}\n"
     ]
    }
   ],
   "source": [
    "# 集合的生成式\n",
    "\n",
    "sa = {1,2,3,4,5,6,7,8,9,10}\n",
    "# 利用sa生成sb\n",
    "sb = {i for i in sa}\n",
    "print(sb)\n",
    "\n",
    "sc = {i for i in sa if i % 2 ==0}\n",
    "print(sc)\n",
    "\n",
    "# 双重for循环\n",
    "# 吧sa中的每一个元素平方生成新的合集\n",
    "sd = {i**2 for i in sa}\n",
    "print(sd)\n",
    "\n",
    "se = { m*n for m in sa for n in sa}\n",
    "print(se)"
   ]
  },
  {
   "cell_type": "code",
   "execution_count": 35,
   "metadata": {},
   "outputs": [
    {
     "name": "stdout",
     "output_type": "stream",
     "text": [
      "42\n",
      "{1, 2, 3, 4, 5, 6}\n",
      "{1, 2, 3, 4, 5, 6, 7}\n"
     ]
    }
   ],
   "source": [
    "# 集合的内置函数\n",
    "# len: 长度\n",
    "print(len(se))\n",
    "# max/min:最值\n",
    "# add:向合集中添加元素\n",
    "sa = {1,2,3,4,5,6,5,3,2,1}\n",
    "print(sa)\n",
    "# print(sa.add(7))\n",
    "sa.add(7)\n",
    "print(sa)\n",
    "\n",
    "# clear:清空"
   ]
  },
  {
   "cell_type": "code",
   "execution_count": 37,
   "metadata": {},
   "outputs": [
    {
     "name": "stdout",
     "output_type": "stream",
     "text": [
      "{1, 2, 3, 4, 5, 6, 7}\n",
      "{1, 2, 3, 4, 6, 7}\n"
     ]
    },
    {
     "ename": "KeyError",
     "evalue": "5",
     "output_type": "error",
     "traceback": [
      "\u001b[1;31m---------------------------------------------------------------------------\u001b[0m",
      "\u001b[1;31mKeyError\u001b[0m                                  Traceback (most recent call last)",
      "\u001b[1;32m<ipython-input-37-66048a4e38e7>\u001b[0m in \u001b[0;36m<module>\u001b[1;34m\u001b[0m\n\u001b[0;32m      6\u001b[0m \u001b[0mprint\u001b[0m\u001b[1;33m(\u001b[0m\u001b[0msa\u001b[0m\u001b[1;33m)\u001b[0m\u001b[1;33m\u001b[0m\u001b[1;33m\u001b[0m\u001b[0m\n\u001b[0;32m      7\u001b[0m \u001b[1;31m# 如果删除一个不存在的值会报错\u001b[0m\u001b[1;33m\u001b[0m\u001b[1;33m\u001b[0m\u001b[1;33m\u001b[0m\u001b[0m\n\u001b[1;32m----> 8\u001b[1;33m \u001b[0msa\u001b[0m\u001b[1;33m.\u001b[0m\u001b[0mremove\u001b[0m\u001b[1;33m(\u001b[0m\u001b[1;36m5\u001b[0m\u001b[1;33m)\u001b[0m\u001b[1;33m\u001b[0m\u001b[1;33m\u001b[0m\u001b[0m\n\u001b[0m",
      "\u001b[1;31mKeyError\u001b[0m: 5"
     ]
    }
   ],
   "source": [
    "# 删除操作\n",
    "# remove 和 discaed的区别\n",
    "sa = {1,2,3,4,5,6,7}\n",
    "print(sa)\n",
    "sa.remove(5)\n",
    "print(sa)\n",
    "\n",
    "# 如果删除一个不存在的值会报错\n",
    "sa.remove(5)"
   ]
  },
  {
   "cell_type": "code",
   "execution_count": 30,
   "metadata": {},
   "outputs": [
    {
     "name": "stdout",
     "output_type": "stream",
     "text": [
      "{1, 2, 3, 4, 5, 6, 7}\n",
      "{1, 2, 3, 4, 6, 7}\n"
     ]
    }
   ],
   "source": [
    "# remove 和 discard的区别\n",
    "sa = {1,2,3,4,5,6,7}\n",
    "print(sa)\n",
    "sa.discard(5)\n",
    "print(sa)\n",
    "\n",
    "sa.discard(5)"
   ]
  },
  {
   "cell_type": "code",
   "execution_count": 81,
   "metadata": {},
   "outputs": [
    {
     "name": "stdout",
     "output_type": "stream",
     "text": [
      "{2, 3, 4, 5, 6, 7}\n",
      "{3, 4, 5, 6, 7}\n"
     ]
    }
   ],
   "source": [
    "# pop弹出集合的一个内容\n",
    "# 删除的内容是随机的\n",
    "\n",
    "sa = {1,2,3,4,5,6,7}\n",
    "print(sa)\n",
    "sa.pop()\n",
    "print(sa)\n"
   ]
  },
  {
   "cell_type": "code",
   "execution_count": 3,
   "metadata": {},
   "outputs": [
    {
     "name": "stdout",
     "output_type": "stream",
     "text": [
      "{4, 5, 6}\n",
      "{1, 2, 3}\n",
      "{1, 2, 3}\n",
      "{1, 2, 3, 4, 5, 6, 7, 8, 9}\n"
     ]
    }
   ],
   "source": [
    "# 集合的数学操作\n",
    "# intersection:交集\n",
    "sa = {1,2,3,4,5,6}\n",
    "sb = {4,5,6,7,8,9}\n",
    "# sa 和 sb的交集\n",
    "print(sa.intersection(sb))\n",
    "\n",
    "#difference:差集\n",
    "print(sa.difference(sb))\n",
    "#差集的另一种表示\n",
    "print(sa-sb)\n",
    "\n",
    "# union:并集\n",
    "print(sa.union(sb))"
   ]
  },
  {
   "cell_type": "markdown",
   "metadata": {},
   "source": [
    "# frozenset 冰冻集合\n",
    "-不允许修改的集合"
   ]
  },
  {
   "cell_type": "code",
   "execution_count": 4,
   "metadata": {},
   "outputs": [
    {
     "name": "stdout",
     "output_type": "stream",
     "text": [
      "{1, 2, 3, 4, 5, 6}\n",
      "frozenset({1, 2, 3, 4, 5, 6})\n"
     ]
    }
   ],
   "source": [
    "# 案例\n",
    "print(sa)\n",
    "sb = frozenset(sa)\n",
    "print(sb)"
   ]
  },
  {
   "cell_type": "markdown",
   "metadata": {},
   "source": [
    "# 变量作用域\n",
    "- 变量由作用范围限制\n",
    "- 分类：按照作用域分类\n",
    "    - 全局（global）：在函数外部定义\n",
    "    - 局部（local）：在函数内部定义\n",
    "- 变量的作用范围：\n",
    "    - 全局变量：在整个全局范围内都有效\n",
    "    - 全局变量在局部可以使用\n",
    "    \n",
    "    - 局部变量：在局部范围可以使用\n",
    "    - 局部变量在全局范围无法使用\n",
    "- LEGB原则\n",
    "    - L（local）局部作用域\n",
    "    - E（Enclosing function locale）函数定义所在模块作用域\n",
    "    - G（Global module）函数定义所在模块作用域\n",
    "    - B(Buildin):python内置模块的作用域\n",
    "     "
   ]
  },
  {
   "cell_type": "code",
   "execution_count": 7,
   "metadata": {},
   "outputs": [
    {
     "name": "stdout",
     "output_type": "stream",
     "text": [
      "100\n",
      "I am fun\n",
      "99\n",
      "100\n"
     ]
    }
   ],
   "source": [
    "# 局部和全局案例\n",
    "a1 = 100 \n",
    "def fun():\n",
    "    print(a1)\n",
    "    print(\"I am fun\")\n",
    "    # a2是局部变量\n",
    "    a2 = 99\n",
    "    print(a2)\n",
    "\n",
    "fun()\n",
    "print(a1)\n",
    "\n",
    "# print(a2)"
   ]
  },
  {
   "cell_type": "markdown",
   "metadata": {},
   "source": [
    "# 提升局部变量为全局变量\n",
    "- 使用global"
   ]
  },
  {
   "cell_type": "code",
   "execution_count": 18,
   "metadata": {},
   "outputs": [
    {
     "name": "stdout",
     "output_type": "stream",
     "text": [
      "100\n",
      "I am fun\n",
      "99\n",
      "100\n",
      "99\n"
     ]
    }
   ],
   "source": [
    "# 案例\n",
    "\n",
    "def fun():\n",
    "    # 使用global要先声明再赋值，否则会报错\n",
    "    # global b1 =100\n",
    "    global b1\n",
    "    b1 = 100\n",
    "    print(b1)\n",
    "    print(\"I am fun\")\n",
    "    # b2是局部变量,使用global将其提升为全局变量\n",
    "    global b2\n",
    "    b2 = 99\n",
    "    print(b2)\n",
    "\n",
    "fun()\n",
    "print(b1)\n",
    "\n",
    "print(b2)"
   ]
  },
  {
   "cell_type": "markdown",
   "metadata": {},
   "source": [
    "# globals,locals函数\n",
    "- 可以通过globals和locals显示出局部变量和全局变量\n"
   ]
  },
  {
   "cell_type": "code",
   "execution_count": 19,
   "metadata": {},
   "outputs": [
    {
     "name": "stdout",
     "output_type": "stream",
     "text": [
      "locals={'c': 100, 'd': 200, 'e': 119}\n",
      "globals={'__name__': '__main__', '__doc__': 'Automatically created module for IPython interactive environment', '__package__': None, '__loader__': None, '__spec__': None, '__builtin__': <module 'builtins' (built-in)>, '__builtins__': <module 'builtins' (built-in)>, '_ih': ['', '# 案例\\nprint(sa)\\nsb = frozenset(sa)\\nprint(sb)', '# 案例\\nprint(sa)\\nsb = frozenset(sa)\\nprint(sb)', '# 集合的数学操作\\n# intersection:交集\\nsa = {1,2,3,4,5,6}\\nsb = {4,5,6,7,8,9}\\n# sa 和 sb的交集\\nprint(sa.intersection(sb))\\n\\n#difference:差集\\nprint(sa.difference(sb))\\n#差集的另一种表示\\nprint(sa-sb)\\n\\n# union:并集\\nprint(sa.union(sb))', '# 案例\\nprint(sa)\\nsb = frozenset(sa)\\nprint(sb)', 'a1 = 100 \\ndef fun():\\n    print(a1)\\n    print(\"I am fun\")\\n    # a2是局部变量\\n    a2 = 99\\n    print(a2)\\n\\nfun()\\nprint(a1)\\n\\n#print(a2)', 'a1 = 100 \\ndef fun():\\n    print(a1)\\n    print(\"I am fun\")\\n    # a2是局部变量\\n    a2 = 99\\n    print(a2)\\n\\nfun()\\nprint(a1)\\n\\nprint(a2)', '# 局部和全局案例\\na1 = 100 \\ndef fun():\\n    print(a1)\\n    print(\"I am fun\")\\n    # a2是局部变量\\n    a2 = 99\\n    print(a2)\\n\\nfun()\\nprint(a1)\\n\\n# print(a2)', '# 案例\\na1 = 100 \\ndef fun():\\n    b2 = 99\\n    print(b1)\\n    print(\"I am fun\")\\n    # a2是局部变量\\n    \\n    print(b2)\\n\\nfun()\\nprint(b1)\\n\\n# print(b2)', '# 案例\\nb1 = 100 \\ndef fun():\\n    global b2 = 99\\n    print(b1)\\n    print(\"I am fun\")\\n    # a2是局部变量\\n    \\n    print(b2)\\n\\nfun()\\nprint(b1)\\n\\n# print(b2)', '# 案例\\nb1 = 100 \\ndef fun():\\n    global b2 = 99\\n    print(b1)\\n    print(\"I am fun\")\\n    # a2是局部变量\\n    \\n    print(b2)\\n\\nfun()\\nprint(b1)\\n\\n print(b2)', '# 案例\\nb1 = 100 \\ndef fun():\\n    global b2 = 99\\n    print(b1)\\n    print(\"I am fun\")\\n    # a2是局部变量\\n    \\n    print(b2)\\n\\nfun()\\nprint(b1)\\n\\nprint(b2)', '# 案例\\n\\ndef fun():\\n    b1 = 100 \\n    print(b1)\\n    print(\"I am fun\")\\n    # a2是局部变量\\n    b2 = 99\\n    print(b2)\\n\\nfun()\\nprint(b1)\\n\\n# print(b2)', '# 案例\\n\\ndef fun():\\n    global b1 = 100 \\n    print(b1)\\n    print(\"I am fun\")\\n    # a2是局部变量\\n    b2 = 99\\n    print(b2)\\n\\nfun()\\nprint(b1)\\n\\n# print(b2)', '# 案例\\n\\ndef fun():\\n    global b1 = 100 \\n    print(b1)\\n    print(\"I am fun\")\\n    # b2是局部变量\\n    b2 = 99\\n    #print(b2)\\n\\nfun()\\nprint(b1)\\n\\n# print(b2)', '# 案例\\n\\ndef fun():\\n    global b1 = 100 \\n    print(b1)\\n    print(\"I am fun\")\\n    # b2是局部变量\\n    b2 = 99\\n    print(b2)\\n\\nfun()\\n# print(b1)\\n\\n# print(b2)', '# 案例\\n\\ndef fun():\\n    global b1\\n    b1 = 100\\n    print(b1)\\n    print(\"I am fun\")\\n    # b2是局部变量\\n    b2 = 99\\n    print(b2)\\n\\nfun()\\nprint(b1)\\n\\n# print(b2)', '# 案例\\n\\ndef fun():\\n    # 使用global要先声明再赋值，否则会报错\\n    # global b1 =100\\n    global b1\\n    b1 = 100\\n    print(b1)\\n    print(\"I am fun\")\\n    # b2是局部变量\\n    global b2\\n    b2 = 99\\n    print(b2)\\n\\nfun()\\nprint(b1)\\n\\n print(b2)', '# 案例\\n\\ndef fun():\\n    # 使用global要先声明再赋值，否则会报错\\n    # global b1 =100\\n    global b1\\n    b1 = 100\\n    print(b1)\\n    print(\"I am fun\")\\n    # b2是局部变量\\n    global b2\\n    b2 = 99\\n    print(b2)\\n\\nfun()\\nprint(b1)\\n\\nprint(b2)', '# glocals和locals\\na = 1\\nb = 2\\n\\ndef fun(c,d):\\n    e = 119\\n    print(\"locals={0}\".format(locals()))\\n    print(\"globals={0}\".format(globals()))\\n    \\nfun(100,200)'], '_oh': {}, '_dh': ['C:\\\\Users\\\\社会你小斌哥'], 'In': ['', '# 案例\\nprint(sa)\\nsb = frozenset(sa)\\nprint(sb)', '# 案例\\nprint(sa)\\nsb = frozenset(sa)\\nprint(sb)', '# 集合的数学操作\\n# intersection:交集\\nsa = {1,2,3,4,5,6}\\nsb = {4,5,6,7,8,9}\\n# sa 和 sb的交集\\nprint(sa.intersection(sb))\\n\\n#difference:差集\\nprint(sa.difference(sb))\\n#差集的另一种表示\\nprint(sa-sb)\\n\\n# union:并集\\nprint(sa.union(sb))', '# 案例\\nprint(sa)\\nsb = frozenset(sa)\\nprint(sb)', 'a1 = 100 \\ndef fun():\\n    print(a1)\\n    print(\"I am fun\")\\n    # a2是局部变量\\n    a2 = 99\\n    print(a2)\\n\\nfun()\\nprint(a1)\\n\\n#print(a2)', 'a1 = 100 \\ndef fun():\\n    print(a1)\\n    print(\"I am fun\")\\n    # a2是局部变量\\n    a2 = 99\\n    print(a2)\\n\\nfun()\\nprint(a1)\\n\\nprint(a2)', '# 局部和全局案例\\na1 = 100 \\ndef fun():\\n    print(a1)\\n    print(\"I am fun\")\\n    # a2是局部变量\\n    a2 = 99\\n    print(a2)\\n\\nfun()\\nprint(a1)\\n\\n# print(a2)', '# 案例\\na1 = 100 \\ndef fun():\\n    b2 = 99\\n    print(b1)\\n    print(\"I am fun\")\\n    # a2是局部变量\\n    \\n    print(b2)\\n\\nfun()\\nprint(b1)\\n\\n# print(b2)', '# 案例\\nb1 = 100 \\ndef fun():\\n    global b2 = 99\\n    print(b1)\\n    print(\"I am fun\")\\n    # a2是局部变量\\n    \\n    print(b2)\\n\\nfun()\\nprint(b1)\\n\\n# print(b2)', '# 案例\\nb1 = 100 \\ndef fun():\\n    global b2 = 99\\n    print(b1)\\n    print(\"I am fun\")\\n    # a2是局部变量\\n    \\n    print(b2)\\n\\nfun()\\nprint(b1)\\n\\n print(b2)', '# 案例\\nb1 = 100 \\ndef fun():\\n    global b2 = 99\\n    print(b1)\\n    print(\"I am fun\")\\n    # a2是局部变量\\n    \\n    print(b2)\\n\\nfun()\\nprint(b1)\\n\\nprint(b2)', '# 案例\\n\\ndef fun():\\n    b1 = 100 \\n    print(b1)\\n    print(\"I am fun\")\\n    # a2是局部变量\\n    b2 = 99\\n    print(b2)\\n\\nfun()\\nprint(b1)\\n\\n# print(b2)', '# 案例\\n\\ndef fun():\\n    global b1 = 100 \\n    print(b1)\\n    print(\"I am fun\")\\n    # a2是局部变量\\n    b2 = 99\\n    print(b2)\\n\\nfun()\\nprint(b1)\\n\\n# print(b2)', '# 案例\\n\\ndef fun():\\n    global b1 = 100 \\n    print(b1)\\n    print(\"I am fun\")\\n    # b2是局部变量\\n    b2 = 99\\n    #print(b2)\\n\\nfun()\\nprint(b1)\\n\\n# print(b2)', '# 案例\\n\\ndef fun():\\n    global b1 = 100 \\n    print(b1)\\n    print(\"I am fun\")\\n    # b2是局部变量\\n    b2 = 99\\n    print(b2)\\n\\nfun()\\n# print(b1)\\n\\n# print(b2)', '# 案例\\n\\ndef fun():\\n    global b1\\n    b1 = 100\\n    print(b1)\\n    print(\"I am fun\")\\n    # b2是局部变量\\n    b2 = 99\\n    print(b2)\\n\\nfun()\\nprint(b1)\\n\\n# print(b2)', '# 案例\\n\\ndef fun():\\n    # 使用global要先声明再赋值，否则会报错\\n    # global b1 =100\\n    global b1\\n    b1 = 100\\n    print(b1)\\n    print(\"I am fun\")\\n    # b2是局部变量\\n    global b2\\n    b2 = 99\\n    print(b2)\\n\\nfun()\\nprint(b1)\\n\\n print(b2)', '# 案例\\n\\ndef fun():\\n    # 使用global要先声明再赋值，否则会报错\\n    # global b1 =100\\n    global b1\\n    b1 = 100\\n    print(b1)\\n    print(\"I am fun\")\\n    # b2是局部变量\\n    global b2\\n    b2 = 99\\n    print(b2)\\n\\nfun()\\nprint(b1)\\n\\nprint(b2)', '# glocals和locals\\na = 1\\nb = 2\\n\\ndef fun(c,d):\\n    e = 119\\n    print(\"locals={0}\".format(locals()))\\n    print(\"globals={0}\".format(globals()))\\n    \\nfun(100,200)'], 'Out': {}, 'get_ipython': <bound method InteractiveShell.get_ipython of <ipykernel.zmqshell.ZMQInteractiveShell object at 0x0000023F7A280668>>, 'exit': <IPython.core.autocall.ZMQExitAutocall object at 0x0000023F7AC439B0>, 'quit': <IPython.core.autocall.ZMQExitAutocall object at 0x0000023F7AC439B0>, '_': '', '__': '', '___': '', '_i': '# 案例\\n\\ndef fun():\\n    # 使用global要先声明再赋值，否则会报错\\n    # global b1 =100\\n    global b1\\n    b1 = 100\\n    print(b1)\\n    print(\"I am fun\")\\n    # b2是局部变量\\n    global b2\\n    b2 = 99\\n    print(b2)\\n\\nfun()\\nprint(b1)\\n\\nprint(b2)', '_ii': '# 案例\\n\\ndef fun():\\n    # 使用global要先声明再赋值，否则会报错\\n    # global b1 =100\\n    global b1\\n    b1 = 100\\n    print(b1)\\n    print(\"I am fun\")\\n    # b2是局部变量\\n    global b2\\n    b2 = 99\\n    print(b2)\\n\\nfun()\\nprint(b1)\\n\\n print(b2)', '_iii': '# 案例\\n\\ndef fun():\\n    global b1\\n    b1 = 100\\n    print(b1)\\n    print(\"I am fun\")\\n    # b2是局部变量\\n    b2 = 99\\n    print(b2)\\n\\nfun()\\nprint(b1)\\n\\n# print(b2)', '_i1': '# 案例\\nprint(sa)\\nsb = frozenset(sa)\\nprint(sb)', '_i2': '# 案例\\nprint(sa)\\nsb = frozenset(sa)\\nprint(sb)', '_i3': '# 集合的数学操作\\n# intersection:交集\\nsa = {1,2,3,4,5,6}\\nsb = {4,5,6,7,8,9}\\n# sa 和 sb的交集\\nprint(sa.intersection(sb))\\n\\n#difference:差集\\nprint(sa.difference(sb))\\n#差集的另一种表示\\nprint(sa-sb)\\n\\n# union:并集\\nprint(sa.union(sb))', 'sa': {1, 2, 3, 4, 5, 6}, 'sb': frozenset({1, 2, 3, 4, 5, 6}), '_i4': '# 案例\\nprint(sa)\\nsb = frozenset(sa)\\nprint(sb)', '_i5': 'a1 = 100 \\ndef fun():\\n    print(a1)\\n    print(\"I am fun\")\\n    # a2是局部变量\\n    a2 = 99\\n    print(a2)\\n\\nfun()\\nprint(a1)\\n\\n#print(a2)', 'a1': 100, 'fun': <function fun at 0x0000023F7ADEABF8>, '_i6': 'a1 = 100 \\ndef fun():\\n    print(a1)\\n    print(\"I am fun\")\\n    # a2是局部变量\\n    a2 = 99\\n    print(a2)\\n\\nfun()\\nprint(a1)\\n\\nprint(a2)', '_i7': '# 局部和全局案例\\na1 = 100 \\ndef fun():\\n    print(a1)\\n    print(\"I am fun\")\\n    # a2是局部变量\\n    a2 = 99\\n    print(a2)\\n\\nfun()\\nprint(a1)\\n\\n# print(a2)', '_i8': '# 案例\\na1 = 100 \\ndef fun():\\n    b2 = 99\\n    print(b1)\\n    print(\"I am fun\")\\n    # a2是局部变量\\n    \\n    print(b2)\\n\\nfun()\\nprint(b1)\\n\\n# print(b2)', '_i9': '# 案例\\nb1 = 100 \\ndef fun():\\n    global b2 = 99\\n    print(b1)\\n    print(\"I am fun\")\\n    # a2是局部变量\\n    \\n    print(b2)\\n\\nfun()\\nprint(b1)\\n\\n# print(b2)', '_i10': '# 案例\\nb1 = 100 \\ndef fun():\\n    global b2 = 99\\n    print(b1)\\n    print(\"I am fun\")\\n    # a2是局部变量\\n    \\n    print(b2)\\n\\nfun()\\nprint(b1)\\n\\n print(b2)', '_i11': '# 案例\\nb1 = 100 \\ndef fun():\\n    global b2 = 99\\n    print(b1)\\n    print(\"I am fun\")\\n    # a2是局部变量\\n    \\n    print(b2)\\n\\nfun()\\nprint(b1)\\n\\nprint(b2)', '_i12': '# 案例\\n\\ndef fun():\\n    b1 = 100 \\n    print(b1)\\n    print(\"I am fun\")\\n    # a2是局部变量\\n    b2 = 99\\n    print(b2)\\n\\nfun()\\nprint(b1)\\n\\n# print(b2)', '_i13': '# 案例\\n\\ndef fun():\\n    global b1 = 100 \\n    print(b1)\\n    print(\"I am fun\")\\n    # a2是局部变量\\n    b2 = 99\\n    print(b2)\\n\\nfun()\\nprint(b1)\\n\\n# print(b2)', '_i14': '# 案例\\n\\ndef fun():\\n    global b1 = 100 \\n    print(b1)\\n    print(\"I am fun\")\\n    # b2是局部变量\\n    b2 = 99\\n    #print(b2)\\n\\nfun()\\nprint(b1)\\n\\n# print(b2)', '_i15': '# 案例\\n\\ndef fun():\\n    global b1 = 100 \\n    print(b1)\\n    print(\"I am fun\")\\n    # b2是局部变量\\n    b2 = 99\\n    print(b2)\\n\\nfun()\\n# print(b1)\\n\\n# print(b2)', '_i16': '# 案例\\n\\ndef fun():\\n    global b1\\n    b1 = 100\\n    print(b1)\\n    print(\"I am fun\")\\n    # b2是局部变量\\n    b2 = 99\\n    print(b2)\\n\\nfun()\\nprint(b1)\\n\\n# print(b2)', 'b1': 100, '_i17': '# 案例\\n\\ndef fun():\\n    # 使用global要先声明再赋值，否则会报错\\n    # global b1 =100\\n    global b1\\n    b1 = 100\\n    print(b1)\\n    print(\"I am fun\")\\n    # b2是局部变量\\n    global b2\\n    b2 = 99\\n    print(b2)\\n\\nfun()\\nprint(b1)\\n\\n print(b2)', '_i18': '# 案例\\n\\ndef fun():\\n    # 使用global要先声明再赋值，否则会报错\\n    # global b1 =100\\n    global b1\\n    b1 = 100\\n    print(b1)\\n    print(\"I am fun\")\\n    # b2是局部变量\\n    global b2\\n    b2 = 99\\n    print(b2)\\n\\nfun()\\nprint(b1)\\n\\nprint(b2)', 'b2': 99, '_i19': '# glocals和locals\\na = 1\\nb = 2\\n\\ndef fun(c,d):\\n    e = 119\\n    print(\"locals={0}\".format(locals()))\\n    print(\"globals={0}\".format(globals()))\\n    \\nfun(100,200)', 'a': 1, 'b': 2}\n"
     ]
    }
   ],
   "source": [
    "# glocals和locals\n",
    "a = 1\n",
    "b = 2\n",
    "\n",
    "def fun(c,d):\n",
    "    e = 119\n",
    "    print(\"locals={0}\".format(locals()))\n",
    "    print(\"globals={0}\".format(globals()))\n",
    "    \n",
    "fun(100,200)"
   ]
  },
  {
   "cell_type": "markdown",
   "metadata": {},
   "source": [
    "# eval()函数\n",
    " - 把一个字符串当成代码来执行\n",
    " - 语法：\n",
    "         eval(string_code,globals=None,locals=None)\n",
    "         \n",
    "# exec()函数\n",
    "- 和eval()函数类似，但是不返回结果\n",
    " - 语法：\n",
    "         exec(string_code,globals=None,locals=None)"
   ]
  },
  {
   "cell_type": "code",
   "execution_count": 20,
   "metadata": {},
   "outputs": [
    {
     "name": "stdout",
     "output_type": "stream",
     "text": [
      "300\n",
      "300\n"
     ]
    }
   ],
   "source": [
    "x = 100\n",
    "y = 200\n",
    "# 执行x+y\n",
    "z1 = x + y\n",
    "z2 = eval(\"x + y\")\n",
    "\n",
    "print(z1)\n",
    "print(z2)"
   ]
  },
  {
   "cell_type": "code",
   "execution_count": 23,
   "metadata": {},
   "outputs": [
    {
     "name": "stdout",
     "output_type": "stream",
     "text": [
      "x+y: 300\n",
      "300\n",
      "None\n"
     ]
    }
   ],
   "source": [
    "x = 100\n",
    "y = 200\n",
    "# 执行x+y\n",
    "z1 = x + y\n",
    "z2 = exec(\"print('x+y:',x + y)\")\n",
    "\n",
    "print(z1)\n",
    "print(z2)"
   ]
  },
  {
   "cell_type": "code",
   "execution_count": null,
   "metadata": {},
   "outputs": [],
   "source": []
  }
 ],
 "metadata": {
  "kernelspec": {
   "display_name": "Python 3",
   "language": "python",
   "name": "python3"
  },
  "language_info": {
   "codemirror_mode": {
    "name": "ipython",
    "version": 3
   },
   "file_extension": ".py",
   "mimetype": "text/x-python",
   "name": "python",
   "nbconvert_exporter": "python",
   "pygments_lexer": "ipython3",
   "version": "3.7.3"
  }
 },
 "nbformat": 4,
 "nbformat_minor": 2
}
