{
 "cells": [
  {
   "cell_type": "markdown",
   "metadata": {},
   "source": [
    "# 程序结构\n",
    "- 顺序\n",
    "- 循环\n",
    "- 分支"
   ]
  },
  {
   "cell_type": "markdown",
   "metadata": {},
   "source": [
    "# 分支机构\n",
    " \n",
    "- 基本语法\n",
    "     \n",
    "     if 条件表达式:\n",
    "        语句1\n",
    "        语句2\n",
    "        语句3\n",
    "        .......\n",
    "\n",
    "- 条件表达式就是运算结果必须为布尔值\n",
    "- 表达式后面冒号不可缺少\n",
    "- 注意if后面出现的的语句，如果属于if语句块，则同一缩进等级\n",
    "- 条件表达式结果为Ture执行后面的缩进语句块\n",
    "\n",
    "\n",
    "- 只有空字符串为Flase,其余为Ture  \n",
    "- 空字符串：长度为0的字符串"
   ]
  },
  {
   "cell_type": "markdown",
   "metadata": {},
   "source": [
    "# 双向分支\n",
    "- if...else\n",
    "- 结构\n",
    "     if 条件表达式:\n",
    "       语句1\n",
    "       语句2\n",
    "       ...\n",
    "     else:\n",
    "       语句1\n",
    "       语句2\n",
    "       ...\n",
    "     "
   ]
  },
  {
   "cell_type": "markdown",
   "metadata": {},
   "source": [
    "# 多路分支\n",
    "- 语法\n",
    "\n",
    "   if 表达式：\n",
    "       语句1\n",
    "       ...\n",
    "   elif 表达式：\n",
    "       语句2\n",
    "       ...\n",
    "    elif 表达式：\n",
    "        语句3\n",
    "        ...\n",
    "    else:\n",
    "        语句4\n",
    "        ...\n",
    "    \n",
    "    \n",
    " # if语句补充\n",
    " - if语句可以嵌套使用，不推荐\n",
    " - python没有switch语句"
   ]
  },
  {
   "cell_type": "code",
   "execution_count": 4,
   "metadata": {},
   "outputs": [
    {
     "name": "stdout",
     "output_type": "stream",
     "text": [
      "请输入你的成绩-1\n",
      "输入的成绩不符合标准，请从新输入\n"
     ]
    }
   ],
   "source": [
    "# input的作用\n",
    "# 1.在屏幕上输出括号内的字符串\n",
    "# 2.接受用户输入的内容并返回到程序\n",
    "# 3.打印输入的内容\n",
    "grade = int(input(\"请输入你的成绩\"))\n",
    "\n",
    "if grade >= 90 and grade <= 100:\n",
    "    print(\"优秀\")\n",
    "elif grade >= 80 and grade < 90:\n",
    "    print(\"良\")\n",
    "elif grade >= 70 and grade < 80:\n",
    "    print(\"中\")\n",
    "elif grade >= 60 and grade < 70:\n",
    "    print(\"平\")\n",
    "elif  grade < 60 and grade >=0:\n",
    "    print(\"我没你这撒学僧\")\n",
    "else:\n",
    "    print(\"输入的成绩不符合标准，请从新输入\")"
   ]
  },
  {
   "cell_type": "markdown",
   "metadata": {},
   "source": [
    "# 循环语句\n",
    "- 重复执行某一固定动作或任务\n",
    "- 分类\n",
    "  - for循环\n",
    "  - while循环\n",
    "  \n",
    "  # for循环\n",
    "- 语法 \n",
    "      for 变量 in 序列：\n",
    "        语句1\n",
    "        语句2\n",
    "        ..."
   ]
  },
  {
   "cell_type": "code",
   "execution_count": 6,
   "metadata": {},
   "outputs": [
    {
     "name": "stdout",
     "output_type": "stream",
     "text": [
      "1\n",
      "2\n",
      "3\n",
      "4\n",
      "5\n",
      "6\n",
      "7\n",
      "8\n"
     ]
    }
   ],
   "source": [
    "# for案例\n",
    "list_one = [1,2,3,4,5,6,7,8]\n",
    "\n",
    "for shuzi in list_one:  \n",
    "    print(shuzi)"
   ]
  },
  {
   "cell_type": "code",
   "execution_count": 9,
   "metadata": {},
   "outputs": [
    {
     "name": "stdout",
     "output_type": "stream",
     "text": [
      "Yes\n",
      "No\n",
      "No\n",
      "No\n",
      "No\n"
     ]
    }
   ],
   "source": [
    "# while案例\n",
    "\n",
    "stu_list = [1,2,3,4,5]\n",
    "for stu in stu_list:\n",
    "    if stu == 1:\n",
    "        print(\"Yes\")\n",
    "    else:\n",
    "        print(\"No\")"
   ]
  },
  {
   "cell_type": "markdown",
   "metadata": {},
   "source": [
    "# for-else语句\n",
    "- for循环结束的时候，需要用到else语句\n",
    "- else是可选"
   ]
  },
  {
   "cell_type": "code",
   "execution_count": 12,
   "metadata": {},
   "outputs": [
    {
     "name": "stdout",
     "output_type": "stream",
     "text": [
      "Yes\n",
      "No\n",
      "No\n",
      "No\n",
      "No\n",
      "Oh,my god\n"
     ]
    }
   ],
   "source": [
    "# for-else案例\n",
    "\n",
    "stu_list = [1,2,3,4,5]\n",
    "for stu in stu_list:\n",
    "    if stu == 1:\n",
    "        print(\"Yes\")\n",
    "    else:\n",
    "        print(\"No\")\n",
    "else:  #可选\n",
    "        print(\"Oh,my god\")"
   ]
  },
  {
   "cell_type": "markdown",
   "metadata": {},
   "source": [
    "# break,  continue, pass\n",
    "- break: 无条件结束整个循环，简称循环猝死\n",
    "- continue: 继续\n",
    "- pass: 只是个占位符 ，代表不做任何动作，没有跳过"
   ]
  },
  {
   "cell_type": "code",
   "execution_count": 5,
   "metadata": {},
   "outputs": [
    {
     "name": "stdout",
     "output_type": "stream",
     "text": [
      "2\n",
      "4\n",
      "6\n",
      "7 哈哈哈，找到了!!!\n"
     ]
    }
   ],
   "source": [
    "# break案例\n",
    "# 确定一个数字队列中是否包含数字7\n",
    "# 如果找到一个就可，不需要往下找了，使用break\n",
    "\n",
    "dig_list = [2,4,6,7,1,0]\n",
    "\n",
    "for dig in dig_list:\n",
    "    if dig == 7:\n",
    "        print(dig,\"哈哈哈，找到了!!!\")\n",
    "        break\n",
    "    else:\n",
    "        print(dig)"
   ]
  },
  {
   "cell_type": "code",
   "execution_count": 21,
   "metadata": {},
   "outputs": [
    {
     "name": "stdout",
     "output_type": "stream",
     "text": [
      "2\n",
      "nmsl\n",
      "4\n",
      "nmsl\n",
      "6\n",
      "nmsl\n",
      "8\n",
      "nmsl\n",
      "10\n",
      "nmsl\n"
     ]
    }
   ],
   "source": [
    "# continue案例\n",
    "\n",
    "dig_list = [1,2,3,4,5,6,7,8,9,10]\n",
    "for dig in dig_list:\n",
    "    if dig % 2 == 1:\n",
    "        continue\n",
    "        \n",
    "    print(dig)\n",
    "    print(\"nmsl\")"
   ]
  },
  {
   "cell_type": "code",
   "execution_count": 24,
   "metadata": {},
   "outputs": [],
   "source": [
    "# pass 案例\n",
    "\n",
    "age = 21\n",
    "if age > 18:\n",
    "    pass\n",
    "else:\n",
    "    print(\"你还小\")"
   ]
  },
  {
   "cell_type": "markdown",
   "metadata": {},
   "source": [
    "# range函数\n",
    "- 生成有序数列\n",
    "- 生成数字队列可以制定"
   ]
  },
  {
   "cell_type": "code",
   "execution_count": 1,
   "metadata": {},
   "outputs": [
    {
     "name": "stdout",
     "output_type": "stream",
     "text": [
      "1\n",
      "2\n",
      "3\n",
      "4\n",
      "5\n",
      "6\n",
      "7\n",
      "8\n",
      "9\n",
      "10\n"
     ]
    }
   ],
   "source": [
    "# range案例\n",
    "# 生成0-10序列\n",
    "# range生成的序列左包括右不包括\n",
    "dig_list = range(1,11)\n",
    "for dig in dig_list:\n",
    "    print(dig)"
   ]
  },
  {
   "cell_type": "code",
   "execution_count": 2,
   "metadata": {},
   "outputs": [
    {
     "name": "stdout",
     "output_type": "stream",
     "text": [
      "1\n",
      "2\n",
      "3\n",
      "4\n",
      "5\n",
      "6\n",
      "7\n",
      "8\n",
      "9\n"
     ]
    }
   ],
   "source": [
    "# range案例2\n",
    "# 打印1-9的数字\n",
    "for i in range(1,10):\n",
    "    print(i)"
   ]
  },
  {
   "cell_type": "markdown",
   "metadata": {},
   "source": [
    "# while循环\n",
    "- 一个循环语句\n",
    "- 表示当条件成立的时候，就循环\n",
    "- while语法：\n",
    "     while 条件表达式：\n",
    "     语句块\n",
    "     \n",
    "     #另一种表达方式\n",
    "     while 条件表达式：\n",
    "         语句块1\n",
    "     else:\n",
    "         语句块2\n",
    "    "
   ]
  },
  {
   "cell_type": "code",
   "execution_count": 6,
   "metadata": {},
   "outputs": [
    {
     "name": "stdout",
     "output_type": "stream",
     "text": [
      "11\n",
      "11\n"
     ]
    }
   ],
   "source": [
    "# 年利率是6.7%，本金每年翻滚，多少年后本钱翻倍\n",
    "\n",
    "money =10000\n",
    "year = 0 # 存放年数\n",
    "\n",
    "while money < 20000:\n",
    "    money = money * (1 + 0.067)\n",
    "    year += 1\n",
    "\n",
    "print(year)\n",
    "\n",
    "# 年利率案例2\n",
    "# 本次案例中循环没有被执行,why？,怎么改正\n",
    "while money < 20000:\n",
    "    money = money * (1 + 0.067)\n",
    "    year += 1 # year = year + 1\n",
    "else:\n",
    "    print(year)"
   ]
  },
  {
   "cell_type": "markdown",
   "metadata": {},
   "source": [
    "# 函数\n",
    "- 函数是代码的一种组织形式\n",
    "- 函数应该能完成一项特定的工作，而且一般一个函数值完成一项工作\n",
    "- 函数的使用\n",
    "   - 函数使用需要先定义\n",
    "   - 使用函数，俗称调用\n",
    "   "
   ]
  },
  {
   "cell_type": "code",
   "execution_count": 8,
   "metadata": {},
   "outputs": [
    {
     "name": "stdout",
     "output_type": "stream",
     "text": [
      "结束\n"
     ]
    }
   ],
   "source": [
    "# 定义一个函数\n",
    "# 只是定义的话不会执行\n",
    "# 1.def关键字，后跟一个空格\n",
    "# 2.函数名，自己定义，遵循命名规则，大驼峰命名只给类用\n",
    "# 3.后面冒号和括号不能省，括号内可以有参数\n",
    "# 4.函数内所有代码缩进\n",
    "\n",
    "def func():\n",
    "    print(\"我是一个函数\")\n",
    "    print(\"nmsl\")\n",
    "\n",
    "print(\"结束\")"
   ]
  },
  {
   "cell_type": "code",
   "execution_count": 9,
   "metadata": {},
   "outputs": [
    {
     "name": "stdout",
     "output_type": "stream",
     "text": [
      "我是一个函数\n",
      "nmsl\n"
     ]
    }
   ],
   "source": [
    "# 函数的调用\n",
    "# 直接写出函数名字，后面小括号不能省略，括号内内容根据情况\n",
    "\n",
    "func()\n"
   ]
  },
  {
   "cell_type": "markdown",
   "metadata": {},
   "source": [
    "# 函数的参数和返回值\n",
    "- 参数：负责给函数传递一些必要的数据或者信息\n",
    "    - 形参（形式参数）：在函数定义的时候用到的参数，没有具体值，只是一个占位符\n",
    "    - 实参 （实际参数）：在调用环市东的时候输入的值\n",
    "    \n",
    "- 返回值：调用函数的时候的一个执行结果\n",
    "    - 使用return返回结果\n",
    "    - 如果没有值需要返回，使用返回return None表示函数结束\n",
    "    - 如果执行return，函数则立即结束\n",
    "    - 如果函数没有return关键字，则函数默认返回None"
   ]
  },
  {
   "cell_type": "code",
   "execution_count": 13,
   "metadata": {},
   "outputs": [
    {
     "name": "stdout",
     "output_type": "stream",
     "text": [
      "小明, 你好\n"
     ]
    }
   ],
   "source": [
    "# 形参和实参的案例\n",
    "# 参数person只是一个占位符号\n",
    "# 调用的时候用另一个\n",
    "def hello(person):\n",
    "    print(\"{0}, 你好\".format(person))\n",
    "    \n",
    "p = \"小明\"\n",
    "# 调用函数，需要把P作为实参传入\n",
    "hello(p)"
   ]
  },
  {
   "cell_type": "code",
   "execution_count": 33,
   "metadata": {},
   "outputs": [
    {
     "name": "stdout",
     "output_type": "stream",
     "text": [
      "小五, 你好\n"
     ]
    }
   ],
   "source": [
    "p = \"小五\"\n",
    "hello(p)\n"
   ]
  },
  {
   "cell_type": "code",
   "execution_count": 18,
   "metadata": {},
   "outputs": [
    {
     "name": "stdout",
     "output_type": "stream",
     "text": [
      "dada, 你好\n",
      "None\n"
     ]
    }
   ],
   "source": [
    "# return案例\n",
    "pp = hello(\"dada\")\n",
    "print(pp)"
   ]
  },
  {
   "cell_type": "code",
   "execution_count": 20,
   "metadata": {},
   "outputs": [
    {
     "name": "stdout",
     "output_type": "stream",
     "text": [
      "Help on built-in function print in module builtins:\n",
      "\n",
      "print(...)\n",
      "    print(value, ..., sep=' ', end='\\n', file=sys.stdout, flush=False)\n",
      "    \n",
      "    Prints the values to a stream, or to sys.stdout by default.\n",
      "    Optional keyword arguments:\n",
      "    file:  a file-like object (stream); defaults to the current sys.stdout.\n",
      "    sep:   string inserted between values, default a space.\n",
      "    end:   string appended after the last value, default a newline.\n",
      "    flush: whether to forcibly flush the stream.\n",
      "\n"
     ]
    }
   ],
   "source": [
    "# help负责为你提供帮助\n",
    "help(print)"
   ]
  },
  {
   "cell_type": "code",
   "execution_count": 26,
   "metadata": {},
   "outputs": [
    {
     "name": "stdout",
     "output_type": "stream",
     "text": [
      "1 \n",
      "2 4 \n",
      "3 6 9 \n",
      "4 8 12 16 \n",
      "5 10 15 20 25 \n",
      "6 12 18 24 30 36 \n",
      "7 14 21 28 35 42 49 \n",
      "8 16 24 32 40 48 56 64 \n",
      "9 18 27 36 45 54 63 72 81 \n"
     ]
    }
   ],
   "source": [
    "# 九九乘法表\n",
    "\n",
    "for o in range(1,10): #控制外循环,重1-9\n",
    "    for i in range(1,o + 1): # 内循环，打印的行数和列数相同\n",
    "        print(o * i, end = \" \")\n",
    "    print()"
   ]
  },
  {
   "cell_type": "code",
   "execution_count": 23,
   "metadata": {},
   "outputs": [
    {
     "name": "stdout",
     "output_type": "stream",
     "text": [
      "1 \n",
      "2 4 \n",
      "3 6 9 \n",
      "4 8 12 16 \n",
      "5 10 15 20 25 \n",
      "6 12 18 24 30 36 \n",
      "7 14 21 28 35 42 49 \n",
      "8 16 24 32 40 48 56 64 \n",
      "9 18 27 36 45 54 63 72 81 \n"
     ]
    }
   ],
   "source": [
    "# 以函数的形式\n",
    "def jiujiu(i):\n",
    "    for o in range(1,i + 1): #控制外循环,从1-9\n",
    "       # for i in range(1,o + 1): # 内循环，打印的行数和列数相同\n",
    "            print(o * i, end = \" \")\n",
    "    print(\"\")\n",
    "    \n",
    "for i in range(1,10):\n",
    "    jiujiu(i)"
   ]
  },
  {
   "cell_type": "code",
   "execution_count": 40,
   "metadata": {},
   "outputs": [
    {
     "name": "stdout",
     "output_type": "stream",
     "text": [
      "1 \n",
      "2 4 \n",
      "3 6 9 \n",
      "4 8 12 16 \n",
      "5 10 15 20 25 \n",
      "6 12 18 24 30 36 \n",
      "7 14 21 28 35 42 49 \n",
      "8 16 24 32 40 48 56 64 \n",
      "9 18 27 36 45 54 63 72 81 \n"
     ]
    }
   ],
   "source": [
    "# 函数的嵌套\n",
    "\n",
    "def printLine(line_num):\n",
    "    '''\n",
    "    line：代表行号\n",
    "    \n",
    "    打印一行九九乘法表\n",
    "    '''\n",
    "\n",
    "    for i in range(1,line_num + 1): # 内循环，打印的行数和列数相同\n",
    "         print(line_num * i, end = \" \")\n",
    "            \n",
    "    print()\n",
    "\n",
    "    \n",
    "def jiujiu():\n",
    "    for o in range(1,10): #控制外循环,从1-9\n",
    "        printLine(o)\n",
    "\n",
    "    return None\n",
    "    \n",
    "jiujiu()"
   ]
  },
  {
   "cell_type": "markdown",
   "metadata": {},
   "source": [
    "# 参数详解\n",
    "- 参数分类\n",
    "    - 普通参数/位置参数\n",
    "        - 定义的时候直接定义变量名\n",
    "        - 调用的时候直接把变量或者值放入指定位置\n",
    "    - 默认参数\n",
    "        - 形参带有默认值\n",
    "        - 调用的时候，如果没有相对应的形参赋值，则使用默认值\n",
    "    - 关键字参数\n",
    "        - 不容易混淆\n",
    "        - 可以不考虑参数位置\n",
    "    - 收集参数\n",
    "        - 把没有位置，不能定义时的参数位置相对应的参数，放入一个特定的数据结构中"
   ]
  },
  {
   "cell_type": "code",
   "execution_count": 43,
   "metadata": {},
   "outputs": [
    {
     "name": "stdout",
     "output_type": "stream",
     "text": [
      "3\n"
     ]
    }
   ],
   "source": [
    "# 普通参数\n",
    "\n",
    "def  normal_para(one, two, three):\n",
    "    print(one + two)\n",
    "    # 打印出位置1的值加上位置2的值\n",
    "    return None\n",
    "\n",
    "normal_para(1,2,3)"
   ]
  },
  {
   "cell_type": "code",
   "execution_count": 47,
   "metadata": {},
   "outputs": [
    {
     "name": "stdout",
     "output_type": "stream",
     "text": [
      "3\n",
      "100\n"
     ]
    }
   ],
   "source": [
    "# 默认参数\n",
    "\n",
    "def  normal_para(one, two, three = 100):\n",
    "    print(one + two)\n",
    "    print(three)\n",
    "    # 打印出位置1的值加上位置2的值\n",
    "    return None\n",
    "\n",
    "normal_para(1,2)"
   ]
  },
  {
   "cell_type": "code",
   "execution_count": 50,
   "metadata": {},
   "outputs": [
    {
     "name": "stdout",
     "output_type": "stream",
     "text": [
      "3\n",
      "30\n",
      "3\n",
      "30\n"
     ]
    }
   ],
   "source": [
    "# 关键字参数\n",
    "\n",
    "def  key_para(one, two, three):\n",
    "     # 打印出位置1的值加上位置2的值\n",
    "    print(one + two)\n",
    "    print(three)\n",
    "    return None\n",
    "# 调用函数\n",
    "normal_para(one = 1, two = 2, three = 30)\n",
    "normal_para(three = 30, two = 2, one = 1)"
   ]
  },
  {
   "cell_type": "code",
   "execution_count": 27,
   "metadata": {},
   "outputs": [
    {
     "name": "stdout",
     "output_type": "stream",
     "text": [
      "Hello,大家好，我自我介绍一下：\n",
      "<class 'tuple'>\n",
      "zhang yubin\n",
      "21\n",
      "wangm\n",
      "single\n",
      "Hello,大家好，我自我介绍一下：\n",
      "<class 'tuple'>\n",
      "zhoudadiao\n"
     ]
    }
   ],
   "source": [
    "# 收集参数案例\n",
    "'''\n",
    "def func(*args):\n",
    "    func_body\n",
    "    \n",
    "func(p1,p2,p3)\n",
    "'''\n",
    "# 参数名args不是必须这么写，约定俗成\n",
    "# 参数名前要有*\n",
    "# 收集参数可以和其他参数并存\n",
    "\n",
    "\n",
    "def stu(*args):\n",
    "    print(\"Hello,大家好，我自我介绍一下：\")\n",
    "    print(type(args))\n",
    "    for item in args:\n",
    "        print(item)\n",
    "    # pass\n",
    "\n",
    "stu(\"zhang yubin\",21,\"wangm\",\"single\")\n",
    "\n",
    "stu(\"zhoudadiao\")"
   ]
  },
  {
   "cell_type": "code",
   "execution_count": 28,
   "metadata": {},
   "outputs": [],
   "source": [
    "# 收集参数案例\n",
    "# 说明收集参数可以不带任何实参调用"
   ]
  },
  {
   "cell_type": "markdown",
   "metadata": {},
   "source": [
    "# 收集参数之关键字收集参数\n",
    "- 把关键字参数按字典格式存入收集参数\n",
    "- 语法：\n",
    "    def fun( **kwargs):\n",
    "        func_body\n",
    "        \n",
    "    # 调用\n",
    "    func(p1=v1,p2=v2,p3=v3......)\n",
    "- kwargs一般约定俗成\n",
    "- 调用的时候，把多余的关键字参数加入kwargs\n",
    "- 访问kwargs需要按字典格式访问"
   ]
  },
  {
   "cell_type": "code",
   "execution_count": 33,
   "metadata": {},
   "outputs": [
    {
     "name": "stdout",
     "output_type": "stream",
     "text": [
      "Hello,大家好，我自我介绍一下：\n",
      "<class 'dict'>\n",
      "name --- zhang yubin\n",
      "age --- 19\n",
      "addr --- 大学\n",
      "work --- Student\n",
      "**************************************************\n",
      "Hello,大家好，我自我介绍一下：\n",
      "<class 'dict'>\n",
      "name --- 周大神\n"
     ]
    }
   ],
   "source": [
    "# 案例\n",
    "def stu( **kwargs):\n",
    "    print(\"Hello,大家好，我自我介绍一下：\")\n",
    "    print(type(kwargs))\n",
    "    for k,v in kwargs.items():\n",
    "        print(k,\"---\",v)\n",
    "    # pass\n",
    "stu(name=\"zhang yubin\",age=19,addr=\"大学\",work=\"Student\")\n",
    "\n",
    "print(\"*\" * 50)\n",
    "stu(name=\"周大神\")"
   ]
  },
  {
   "cell_type": "code",
   "execution_count": 34,
   "metadata": {},
   "outputs": [
    {
     "name": "stdout",
     "output_type": "stream",
     "text": [
      "Hello,大家好，我自我介绍一下：\n",
      "<class 'dict'>\n"
     ]
    }
   ],
   "source": [
    "# 可以为空\n",
    "stu()"
   ]
  },
  {
   "cell_type": "markdown",
   "metadata": {},
   "source": [
    "#  收集参数混合调用的顺序问题\n",
    "- 收集参数，关键字参数，普通参数可以混合使用\n",
    "- 使用规则就是，普通参数和关键字参数优先\n",
    "- 定义是时候一般找普通参数，关键字参数，收集参数tuple，收集参数dict"
   ]
  },
  {
   "cell_type": "code",
   "execution_count": 46,
   "metadata": {},
   "outputs": [
    {
     "name": "stdout",
     "output_type": "stream",
     "text": [
      "hello\n",
      "我叫Zhang Yubin，我今年21大了。\n",
      "我没有爱好，很遗憾\n",
      "********************\n",
      "##############################\n",
      "hello\n",
      "我叫Zhang Yubin，我今年21大了。\n",
      "我的爱好是上天\n",
      "********************\n",
      "##############################\n"
     ]
    }
   ],
   "source": [
    "\n",
    "def stu(name, age, *args, hobby=\"没有\", **kwargs):\n",
    "    print(\"hello\")\n",
    "    print(\"我叫{}，我今年{}大了。\".format(name,age))\n",
    "    \n",
    "    if hobby == \"没有\":\n",
    "        print(\"我没有爱好，很遗憾\")\n",
    "    else:\n",
    "        print(\"我的爱好是{0}\".format(hobby))\n",
    "        \n",
    "    print(\"*\" * 20)\n",
    "    \n",
    "    for i in args:\n",
    "        print(i)\n",
    "        \n",
    "    print(\"#\" * 30)\n",
    "    \n",
    "    for k,v in kwargs:\n",
    "        print(k, \"---\", v)\n",
    "        \n",
    "# 开始调用\n",
    "name = \"Zhang Yubin\"\n",
    "age = 21\n",
    "\n",
    "stu(name,age)\n",
    "\n",
    "stu(name,age, hobby = \"上天\")"
   ]
  },
  {
   "cell_type": "markdown",
   "metadata": {},
   "source": [
    "# 收集参数的解包问题\n",
    "- 把参数放入list或者字典中，直接把list/dict中的值放入收集参数中\n"
   ]
  },
  {
   "cell_type": "code",
   "execution_count": 50,
   "metadata": {},
   "outputs": [
    {
     "name": "stdout",
     "output_type": "stream",
     "text": [
      "nmsl\n",
      "<class 'str'>\n",
      "0\n",
      "Zhang Yubin\n",
      "<class 'str'>\n",
      "0\n",
      "hhhhhh\n",
      "<class 'int'>\n",
      "0\n",
      "21\n",
      "<class 'int'>\n",
      "0\n",
      "175\n",
      "nmsl\n",
      "<class 'str'>\n",
      "0\n",
      "Zhang Yubin\n",
      "<class 'int'>\n",
      "0\n",
      "20\n",
      "<class 'int'>\n",
      "0\n",
      "230\n"
     ]
    }
   ],
   "source": [
    "def stu(*args):\n",
    "    print(\"nmsl\")\n",
    "    for i in args:\n",
    "        n = 0\n",
    "        print(type(i))\n",
    "        print(n)\n",
    "        n += 1\n",
    "        print(i)\n",
    "        \n",
    "stu(\"Zhang Yubin\",\"hhhhhh\",21,175)\n",
    "\n",
    "l = list()\n",
    "l.append(\"Zhang Yubin\")\n",
    "l.append(20)\n",
    "l.append(230)\n",
    "\n",
    "stu(*l)\n",
    "# 此时,args的表示形式是字典内一个list类型的元素\n",
    "\n",
    "# 此时的调用，需要解包符号，即调用时加一个*"
   ]
  },
  {
   "cell_type": "markdown",
   "metadata": {},
   "source": [
    "# 同理,dict类型收集参数一样可以解包\n",
    "- 对dict类型进行解包\n",
    "- 需要用两个*进行解包"
   ]
  },
  {
   "cell_type": "markdown",
   "metadata": {},
   "source": [
    "# 返回值\n",
    "- 函数和过程的区别\n",
    "    - 有无返回值\n",
    "- 需要用return显示返回内容。\n",
    "- 如果没有返回，则默认返回None"
   ]
  },
  {
   "cell_type": "code",
   "execution_count": 52,
   "metadata": {},
   "outputs": [
    {
     "name": "stdout",
     "output_type": "stream",
     "text": [
      "木有返回值\n",
      "1\n",
      "没有返回值\n",
      "None\n"
     ]
    }
   ],
   "source": [
    "# 返回值实例\n",
    "\n",
    "def func_1():\n",
    "    print(\"木有返回值\")\n",
    "    return 1\n",
    "\n",
    "def func_2():\n",
    "    print(\"没有返回值\")\n",
    "    return\n",
    "\n",
    "f1 = func_1()\n",
    "print(f1)\n",
    "\n",
    "f2 = func_2()\n",
    "print(f2)"
   ]
  },
  {
   "cell_type": "markdown",
   "metadata": {},
   "source": [
    "# 函数文档\n",
    "- 函数的文档的作用是对当前函数提供使用相关的参考信息\n",
    "- 写法：\n",
    "    - 在函数内部开始的第一 行使用三引号字符串定义符\n",
    "    - 一般具有特性格式\n",
    "    - 参看案例"
   ]
  },
  {
   "cell_type": "code",
   "execution_count": 55,
   "metadata": {},
   "outputs": [],
   "source": [
    "# 案例\n",
    "\n",
    "def stu(name, age, *args):\n",
    "    '这是文档'\n",
    "    print(\"This is hanshu stu\")"
   ]
  },
  {
   "cell_type": "code",
   "execution_count": 56,
   "metadata": {},
   "outputs": [
    {
     "name": "stdout",
     "output_type": "stream",
     "text": [
      "Help on function stu in module __main__:\n",
      "\n",
      "stu(name, age, *args)\n",
      "    这是文档\n",
      "\n"
     ]
    },
    {
     "data": {
      "text/plain": [
       "'这是文档'"
      ]
     },
     "execution_count": 56,
     "metadata": {},
     "output_type": "execute_result"
    }
   ],
   "source": [
    "help(stu)\n",
    "stu.__doc__"
   ]
  },
  {
   "cell_type": "code",
   "execution_count": null,
   "metadata": {},
   "outputs": [],
   "source": []
  }
 ],
 "metadata": {
  "kernelspec": {
   "display_name": "Python 3",
   "language": "python",
   "name": "python3"
  },
  "language_info": {
   "codemirror_mode": {
    "name": "ipython",
    "version": 3
   },
   "file_extension": ".py",
   "mimetype": "text/x-python",
   "name": "python",
   "nbconvert_exporter": "python",
   "pygments_lexer": "ipython3",
   "version": "3.7.3"
  }
 },
 "nbformat": 4,
 "nbformat_minor": 2
}
