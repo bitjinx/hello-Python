{
 "cells": [
  {
   "cell_type": "markdown",
   "metadata": {},
   "source": [
    "# 递归函数\n",
    "- 递归:函数间接或者直接调用自己\n",
    "- 优点：简洁，容易理解\n",
    "- 缺点：对递归深度有限制\n",
    "- 递归分两个过程\n",
    "    - 往下调用，分解\n",
    "    - 往上回溯，综合\n",
    "- 递归需要注意\n",
    "    - 一定要有结束条件\n",
    "- 是以资源换区编写速度"
   ]
  },
  {
   "cell_type": "code",
   "execution_count": 4,
   "metadata": {},
   "outputs": [
    {
     "name": "stdout",
     "output_type": "stream",
     "text": [
      "I am Zhang Yubin\n",
      "I am Your baba\n"
     ]
    }
   ],
   "source": [
    "def funa(n ):\n",
    "    print(\"I am Zhang Yubin\")\n",
    "\n",
    "def funcb(n):\n",
    "    funa(100)\n",
    "    print(\"I am Your baba\")\n",
    "    \n",
    "funcb(100)"
   ]
  },
  {
   "cell_type": "code",
   "execution_count": 12,
   "metadata": {},
   "outputs": [
    {
     "name": "stdout",
     "output_type": "stream",
     "text": [
      "f(100) = 93326215443944152681699238856266700490715968264381621468592963895217599993229915608941463976156518286253697920827223758251185210916864000000000000000000000000\n"
     ]
    }
   ],
   "source": [
    "# 利用数学公式\n",
    "def fun_a(n):\n",
    "    # print(n)\n",
    "    # 递归一定要有结束条件\n",
    "    if n == 1:\n",
    "        return 1\n",
    "    return n * fun_a(n-1)\n",
    "\n",
    "rst = fun_a(100)\n",
    "print(\"f(100) =\",rst)"
   ]
  },
  {
   "cell_type": "code",
   "execution_count": 81,
   "metadata": {},
   "outputs": [
    {
     "name": "stdout",
     "output_type": "stream",
     "text": [
      "rst =  55\n"
     ]
    }
   ],
   "source": [
    "# 斐波拉契数列\n",
    "\n",
    "def fib(n):\n",
    "    if n == 1 or n == 2:\n",
    "        return 1\n",
    "    return fib(n-1) + fib(n-2)\n",
    "\n",
    "rst = fib(10) \n",
    "print(\"rst = \", rst)"
   ]
  },
  {
   "cell_type": "code",
   "execution_count": 35,
   "metadata": {},
   "outputs": [],
   "source": [
    "# 汉诺塔\n",
    "a = 'A'\n",
    "b = 'B'\n",
    "c = 'C'\n",
    "def hano(a,b,c,n):\n",
    "    if n == 1:\n",
    "        print(\"{}-->{}\".format(a,c))\n",
    "        return None\n",
    "    \n",
    "    if n == 2:\n",
    "        print(\"{}-->{}\".format(a,b))\n",
    "        print(\"{}-->{}\".format(a,c))\n",
    "        print(\"{}-->{}\".format(b,c))\n",
    "        return None\n",
    "    \n",
    "    hano(a,c,b,n-1)\n",
    "    print(\"{}-->{}\".format(a,c))\n",
    "    hano(b,a,c,n-1)\n",
    "\n",
    "    \n",
    "# 待定   "
   ]
  },
  {
   "cell_type": "code",
   "execution_count": 37,
   "metadata": {},
   "outputs": [
    {
     "name": "stdout",
     "output_type": "stream",
     "text": [
      "A-->C\n",
      "A-->B\n",
      "C-->B\n",
      "A-->C\n",
      "B-->A\n",
      "B-->C\n",
      "A-->C\n",
      "A-->B\n",
      "C-->B\n",
      "C-->A\n",
      "B-->A\n",
      "C-->B\n",
      "A-->C\n",
      "A-->B\n",
      "C-->B\n",
      "A-->C\n",
      "B-->A\n",
      "B-->C\n",
      "A-->C\n",
      "B-->A\n",
      "C-->B\n",
      "C-->A\n",
      "B-->A\n",
      "B-->C\n",
      "A-->C\n",
      "A-->B\n",
      "C-->B\n",
      "A-->C\n",
      "B-->A\n",
      "B-->C\n",
      "A-->C\n"
     ]
    }
   ],
   "source": [
    "hano(a,b,c,5)"
   ]
  },
  {
   "cell_type": "code",
   "execution_count": 14,
   "metadata": {},
   "outputs": [],
   "source": [
    "s =\"Hello world\""
   ]
  },
  {
   "cell_type": "code",
   "execution_count": 20,
   "metadata": {},
   "outputs": [
    {
     "data": {
      "text/plain": [
       "7"
      ]
     },
     "execution_count": 20,
     "metadata": {},
     "output_type": "execute_result"
    }
   ],
   "source": [
    "s.find(\"o\",5)"
   ]
  },
  {
   "cell_type": "markdown",
   "metadata": {},
   "source": [
    "# opp\n",
    "- 思想\n",
    "    - 以模块化思想解决工程问题\n",
    "    - 面向过程 vs 面向对象\n",
    "    - 由面向过程转向面向对象\n",
    "   \n",
    "- 常用名词\n",
    "    - OO:面向对象\n",
    "    - ooa:分析\n",
    "    - ood:设计\n",
    "    - oop:编程\n",
    "    - ooI:实现\n",
    "    \n",
    "- 类 VS 对象\n",
    "    - 类：抽象\n",
    "    - 对象：具象\n",
    "- 类的内容\n",
    "    - 动作，函数\n",
    "    - 属性，变量\n",
    "- is-a"
   ]
  },
  {
   "cell_type": "code",
   "execution_count": 1,
   "metadata": {},
   "outputs": [],
   "source": [
    "# 定义学生类，和几个学生\n",
    "class Student():\n",
    "    # pass 是关键字，表示占位\n",
    "    pass\n"
   ]
  },
  {
   "cell_type": "code",
   "execution_count": 2,
   "metadata": {},
   "outputs": [],
   "source": [
    "class StudentNoPass():\n",
    "    pass"
   ]
  },
  {
   "cell_type": "code",
   "execution_count": 3,
   "metadata": {},
   "outputs": [],
   "source": [
    "# 定义一个对象\n",
    "xxxxbin = Student()"
   ]
  },
  {
   "cell_type": "code",
   "execution_count": 4,
   "metadata": {},
   "outputs": [
    {
     "name": "stdout",
     "output_type": "stream",
     "text": [
      "NoOne\n",
      "18\n",
      "Python\n"
     ]
    }
   ],
   "source": [
    "# 定义\n",
    "class PythonStudent():\n",
    "    name = \"NoOne\"\n",
    "    age = 18\n",
    "    course = \"Python\"\n",
    "    \n",
    "    def gineMeMoney(self):\n",
    "        print(\"Show me the money\")\n",
    "        return None\n",
    "    \n",
    "xiaobin = PythonStudent()\n",
    "print(xiaobin.name)\n",
    "print(xiaobin.age)\n",
    "print(xiaobin.course)"
   ]
  },
  {
   "cell_type": "markdown",
   "metadata": {},
   "source": [
    "# 类的属性"
   ]
  },
  {
   "cell_type": "code",
   "execution_count": 2,
   "metadata": {},
   "outputs": [],
   "source": [
    "# 类的例子\n",
    "# 定义\n",
    "class Student():\n",
    "    name = \"Bit Jin\"\n",
    "    age = 21\n",
    "    def sayHi(self):\n",
    "        print(\"fuck you\")\n",
    "        return None\n",
    "    "
   ]
  },
  {
   "cell_type": "code",
   "execution_count": 6,
   "metadata": {},
   "outputs": [
    {
     "name": "stdout",
     "output_type": "stream",
     "text": [
      "<__main__.Student object at 0x0000026857315240>\n"
     ]
    }
   ],
   "source": [
    "# 实例化\n",
    "爸爸 = Student()\n",
    "\n",
    "print(爸爸)"
   ]
  },
  {
   "cell_type": "markdown",
   "metadata": {},
   "source": [
    "# self\n",
    "- self可以用别的名词代替\n",
    "- self不是关键字\n",
    "- 指代本身"
   ]
  },
  {
   "cell_type": "code",
   "execution_count": 9,
   "metadata": {},
   "outputs": [
    {
     "name": "stdout",
     "output_type": "stream",
     "text": [
      "fuck you\n"
     ]
    }
   ],
   "source": [
    "# 案例调用函数\n",
    "\n",
    "zhang = Student()\n",
    "\n",
    "\n",
    "# 调用sayHi没有输入参数\n",
    "# 默认实例作为第一个参数传入\n",
    "zhang.sayHi()"
   ]
  },
  {
   "cell_type": "markdown",
   "metadata": {},
   "source": [
    "# 类的变量作用域的问题\n",
    "- 类变量：属于自己的变量\n",
    "- 实例变量：属于实例的变量\n",
    "- 如果定义了实例的属性，先访问实例的属性；如果没有定义实例的属性，则访问类的属性"
   ]
  },
  {
   "cell_type": "code",
   "execution_count": 47,
   "metadata": {},
   "outputs": [
    {
     "name": "stdout",
     "output_type": "stream",
     "text": [
      "My name is Bit Jin, i am 21 years old\n"
     ]
    }
   ],
   "source": [
    "class Student():\n",
    "    # 注意类的变量的定义位置和方法\n",
    "    name = \"Bit Jin\"\n",
    "    age = 21\n",
    "    \n",
    "    def sayHi(self ):\n",
    "        print(\"My name is {}, i am {} years old\".format(self.name, self.age))\n",
    "     \n",
    "        return None\n",
    "\n",
    "zhang = Student()\n",
    "\n",
    "zhang.sayHi()"
   ]
  },
  {
   "cell_type": "code",
   "execution_count": 54,
   "metadata": {},
   "outputs": [
    {
     "name": "stdout",
     "output_type": "stream",
     "text": [
      "My name is zhang, i am 22 years old\n",
      "My name is Bit Jin, i am 21 years old\n"
     ]
    }
   ],
   "source": [
    "# 实例的属性和类的属性不是一回事\n",
    "class Student2():\n",
    "    # 注意类的变量的定义位置和方法\n",
    "    name = \"Bit Jin\"\n",
    "    age = 21\n",
    "    \n",
    "    def sayHi(self, n, a ):\n",
    "        self.name = n\n",
    "        self.age = a\n",
    "        \n",
    "        print(\"My name is {}, i am {} years old\".format(self.name, self.age))\n",
    "     \n",
    "        return None\n",
    "\n",
    "zhang = Student2()\n",
    "# 如果定义了实例的属性，先访问实例的属性。如果没有定义实例的属性，则访问类的属性\n",
    "zhang.sayHi(\"zhang\", 22)\n",
    "print(\"My name is {}, i am {} years old\".format(Student2.name, Student2.age))\n",
    "# print(\"My name is {}, i am {} years old\".format(zhang.name, zhang.age))"
   ]
  },
  {
   "cell_type": "markdown",
   "metadata": {},
   "source": [
    "# 访问类的属性\n",
    "- 在类里面如果强制访问类的属性，则需要使用__class__,指代类本身\n",
    "- 类方法\n",
    "    - 定义类的方法的时候，没有self参数\n",
    "    - 类的方法中只允许类的内容\n",
    "    - 两种方法\n",
    "        - classname\n",
    "        - __class__"
   ]
  },
  {
   "cell_type": "code",
   "execution_count": 61,
   "metadata": {},
   "outputs": [],
   "source": [
    "class Student():\n",
    "    # 注意类的变量的定义位置和方法\n",
    "    name = \"Bit Jin\"\n",
    "    age = 21\n",
    "    \n",
    "    def sayHi(self ):\n",
    "        print(\"My name is {}, i am {} years old\".format(self.name, self.age))\n",
    "     \n",
    "        return None\n",
    "    # sayHi是类的方法\n",
    "    # 如何访问类的变量\n",
    "    # 不允许访问实例的任何属性\n",
    "    # 如果访问类的内容，\n",
    "    def SOS(self):\n",
    "        print(\"{}救命啊，nmsl,cnm,ndya{}\".format(self.name, self.age))\n",
    "        return None\n"
   ]
  },
  {
   "cell_type": "code",
   "execution_count": 63,
   "metadata": {},
   "outputs": [
    {
     "name": "stdout",
     "output_type": "stream",
     "text": [
      "My name is Bit Jin, i am 21 years old\n",
      "Bit Jin救命啊，nmsl,cnm,ndya21\n"
     ]
    }
   ],
   "source": [
    "# 体验类的方法\n",
    "s = Student()\n",
    "s.sayHi()\n",
    "# 调用类分方法的例子\n",
    "s.SOS()"
   ]
  },
  {
   "cell_type": "markdown",
   "metadata": {},
   "source": [
    "# 构造函数\n",
    "- 类在实例化的时候，执行一些初始化的工作\n",
    "- 使用特殊的名称和写法\n",
    "- 在实例化的时候自动执行\n",
    "- 在实例化的时候第一个被执行的函数"
   ]
  },
  {
   "cell_type": "code",
   "execution_count": 64,
   "metadata": {},
   "outputs": [
    {
     "name": "stdout",
     "output_type": "stream",
     "text": [
      "我是你爸爸\n",
      "fuck\n",
      "Bit Jin\n",
      "0\n"
     ]
    }
   ],
   "source": [
    "class Student():\n",
    "   \n",
    "    name = \"Bit Jin\"\n",
    "    age = 0\n",
    "    \n",
    "    def __init__(self):\n",
    "        print(\"我是你爸爸\")\n",
    "Bit = Student()\n",
    "print(\"fuck\")\n",
    "print(Bit.name)\n",
    "print(Bit.age)"
   ]
  },
  {
   "cell_type": "markdown",
   "metadata": {},
   "source": [
    "# 面向对象的三大特征\n",
    "- 继承\n",
    "- 封装\n",
    "- 多态\n",
    "\n",
    "# 继承\n",
    "- 子类可以使用父类定义的内容或者行为\n",
    "- 继承的实现\n",
    "    - 父类：基类，超类，被继承的类，Base Class.Super Class\n",
    "    - 子类：有继承行为的类\n",
    "    \n",
    "    - 所有类都必须有一个父类\n",
    "        - 如果没有，则默认是object的子类"
   ]
  },
  {
   "cell_type": "code",
   "execution_count": 65,
   "metadata": {},
   "outputs": [],
   "source": [
    "# 案例\n",
    "\n",
    "class Person1():\n",
    "    pass\n",
    "\n",
    "class Person2():\n",
    "    pass"
   ]
  },
  {
   "cell_type": "code",
   "execution_count": 66,
   "metadata": {},
   "outputs": [
    {
     "name": "stdout",
     "output_type": "stream",
     "text": [
      "nmsl\n"
     ]
    }
   ],
   "source": [
    "class Person():\n",
    "    name = \"nmsl\"\n",
    "    age = 0\n",
    "    \n",
    "class Teacher(Person):\n",
    "    pass\n",
    "\n",
    "t = Teacher()\n",
    "print(t.name)"
   ]
  },
  {
   "cell_type": "code",
   "execution_count": 67,
   "metadata": {},
   "outputs": [
    {
     "name": "stdout",
     "output_type": "stream",
     "text": [
      "cnm\n",
      "nmsl\n"
     ]
    }
   ],
   "source": [
    "class Bird():\n",
    "    fly = \"Yes, we can\"\n",
    "    def flying(self):\n",
    "        print(\"cnm\")\n",
    "        \n",
    "class BirdMan(Person,Bird):\n",
    "    pass\n",
    "\n",
    "bm = BirdMan()\n",
    "bm.flying()\n",
    "print(bm.name)"
   ]
  },
  {
   "cell_type": "markdown",
   "metadata": {},
   "source": [
    "# issubclass检测是否是子类\n",
    "- 可以用来检测两个类的父子关系"
   ]
  },
  {
   "cell_type": "code",
   "execution_count": 69,
   "metadata": {},
   "outputs": [
    {
     "name": "stdout",
     "output_type": "stream",
     "text": [
      "True\n",
      "True\n",
      "False\n"
     ]
    }
   ],
   "source": [
    "# 检测父子关系\n",
    "print(issubclass(BirdMan,Bird))\n",
    "print(issubclass(BirdMan,Person))\n",
    "print(issubclass(BirdMan,Teacher))"
   ]
  },
  {
   "cell_type": "code",
   "execution_count": 70,
   "metadata": {},
   "outputs": [
    {
     "name": "stdout",
     "output_type": "stream",
     "text": [
      "Help on built-in function issubclass in module builtins:\n",
      "\n",
      "issubclass(cls, class_or_tuple, /)\n",
      "    Return whether 'cls' is a derived from another class or is the same class.\n",
      "    \n",
      "    A tuple, as in ``issubclass(x, (A, B, ...))``, may be given as the target to\n",
      "    check against. This is equivalent to ``issubclass(x, A) or issubclass(x, B)\n",
      "    or ...`` etc.\n",
      "\n"
     ]
    }
   ],
   "source": [
    "help(issubclass)"
   ]
  },
  {
   "cell_type": "markdown",
   "metadata": {},
   "source": [
    "# 构造函数的继承\n",
    "- 构造函数默认继承\n",
    "- 一旦子类定义了构造函数，则不再自动调用父类的构造函数\n",
    "\n",
    "# 构造函数\n",
    "- 在函数实例化的时候调用的一个函数\n",
    "- 自动调用\n",
    "- 要求，第一个参数必须有，一般是self"
   ]
  },
  {
   "cell_type": "code",
   "execution_count": 72,
   "metadata": {},
   "outputs": [
    {
     "name": "stdout",
     "output_type": "stream",
     "text": [
      "nmsl\n"
     ]
    }
   ],
   "source": [
    "# 构造函数案例\n",
    "class Bird():\n",
    "    def __init__(self):\n",
    "        print(\"nmsl\")\n",
    "        return None\n",
    "\n",
    "# 此时调用构造函数\n",
    "b = Bird()"
   ]
  },
  {
   "cell_type": "code",
   "execution_count": 73,
   "metadata": {},
   "outputs": [
    {
     "name": "stdout",
     "output_type": "stream",
     "text": [
      "nmsl 21\n"
     ]
    }
   ],
   "source": [
    "# 构造函数2\n",
    "\n",
    "class Person():\n",
    "    def __init__(self,name,age):\n",
    "        print(name,age)\n",
    "\n",
    "p = Person(\"nmsl\",21)"
   ]
  },
  {
   "cell_type": "code",
   "execution_count": 79,
   "metadata": {},
   "outputs": [
    {
     "name": "stdout",
     "output_type": "stream",
     "text": [
      "Person=(nmsl,21)\n"
     ]
    }
   ],
   "source": [
    "# 案例\n",
    "\n",
    "class Person():\n",
    "    def __init__(self,name,age):\n",
    "        print(\"Person=({},{})\".format(name,age))\n",
    "\n",
    "class Teacher(Person):\n",
    "    pass\n",
    "\n",
    "p = Person(\"nmsl\",21)\n",
    "\n",
    "# t = Teacher()"
   ]
  },
  {
   "cell_type": "code",
   "execution_count": null,
   "metadata": {},
   "outputs": [],
   "source": []
  }
 ],
 "metadata": {
  "kernelspec": {
   "display_name": "Python 3",
   "language": "python",
   "name": "python3"
  },
  "language_info": {
   "codemirror_mode": {
    "name": "ipython",
    "version": 3
   },
   "file_extension": ".py",
   "mimetype": "text/x-python",
   "name": "python",
   "nbconvert_exporter": "python",
   "pygments_lexer": "ipython3",
   "version": "3.7.3"
  }
 },
 "nbformat": 4,
 "nbformat_minor": 2
}
