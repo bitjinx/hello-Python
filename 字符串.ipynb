{
 "cells": [
  {
   "cell_type": "markdown",
   "metadata": {},
   "source": [
    "# str字符串\n",
    "- str\n",
    "- 转义字符\n",
    "- 格式化\n",
    "- 内建函数"
   ]
  },
  {
   "cell_type": "code",
   "execution_count": null,
   "metadata": {},
   "outputs": [],
   "source": [
    "# 字符串\n",
    "- 表示文字信息\n",
    "- 用单引号，双引号，三引号"
   ]
  },
  {
   "cell_type": "code",
   "execution_count": 1,
   "metadata": {},
   "outputs": [
    {
     "name": "stdout",
     "output_type": "stream",
     "text": [
      "字符串\n"
     ]
    }
   ],
   "source": [
    "# 单引号\n",
    "s = '字符串'\n",
    "print(s)"
   ]
  },
  {
   "cell_type": "code",
   "execution_count": 2,
   "metadata": {},
   "outputs": [
    {
     "name": "stdout",
     "output_type": "stream",
     "text": [
      "字符串\n"
     ]
    }
   ],
   "source": [
    "# 双引号\n",
    "s = \"字符串\"\n",
    "print(s)"
   ]
  },
  {
   "cell_type": "code",
   "execution_count": 3,
   "metadata": {},
   "outputs": [
    {
     "name": "stdout",
     "output_type": "stream",
     "text": [
      "字符串\n"
     ]
    }
   ],
   "source": [
    "# 三引号\n",
    "s = \"\"\"字符串\"\"\"\n",
    "print(s)"
   ]
  },
  {
   "cell_type": "markdown",
   "metadata": {},
   "source": [
    "# 转义字符\n",
    "- 用特色的方法表示一系列不方便写出的内容\n",
    "- 借助反斜杠\n",
    "- 不同的系统对换行操作有不同的表示\n",
    "    - Windows： \\n\n",
    "    - Linux: \\r\\n\n",
    "    \n",
    "    # 转义字符表\n",
    "    - \\(在行尾时) \t续行符\n",
    "    - \\\\ \t反斜杠符号\n",
    "    - \\’ \t单引号\n",
    "    - \\” \t双引号\n",
    "    - \\a \t响铃\n",
    "    - \\b \t退格(Backspace)\n",
    "    - \\e \t转义\n",
    "    - \\000 \t空\n",
    "    - \\n \t换行\n",
    "    - \\v \t纵向制表符\n",
    "    - \\t \t横向制表符\n",
    "    - \\r \t回车\n",
    "    - \\f \t换页\n",
    "    - \\oyy \t八进制数yy代表的字符，例如：\\o12代表换行\n",
    "    - \\xyy \t十进制数yy代表的字符，例如：\\x0a代表换行\n",
    "    - \\other \t其它的字符以普通格式输出"
   ]
  },
  {
   "cell_type": "code",
   "execution_count": 13,
   "metadata": {},
   "outputs": [
    {
     "name": "stdout",
     "output_type": "stream",
     "text": [
      "Let's Go\n",
      "Let's Go\n",
      "C:\\User\\bin\n",
      "hello \n",
      "I \n",
      "Love \n",
      "You\n"
     ]
    }
   ],
   "source": [
    "# 转义字符串案例\n",
    "\n",
    "# 使用转义字符\n",
    "s = 'Let\\'s Go'\n",
    "print(s)\n",
    "\n",
    "# 使用单双引号嵌套\n",
    "s = \"Let's Go\"\n",
    "print(s)\n",
    "\n",
    "# 表示斜杠\n",
    "# 表示 C:\\User\\bin\n",
    "s = \"C:\\\\User\\\\bin\"\n",
    "print(s)\n",
    "\n",
    "# 表示回车换行\n",
    "s = \"hello \\nI \\nLove \\nYou\"\n",
    "print(s)"
   ]
  },
  {
   "cell_type": "code",
   "execution_count": 17,
   "metadata": {},
   "outputs": [
    {
     "name": "stdout",
     "output_type": "stream",
     "text": [
      "nmsl\n"
     ]
    }
   ],
   "source": [
    "# 单个斜杠的用法\n",
    "# 表示一行还没有结束，下一行接着来\n",
    "def myDemo(x,\\\n",
    "           y,\\\n",
    "           z):\n",
    "    print(\"nmsl\")\n",
    "myDemo(1,2,3)"
   ]
  },
  {
   "cell_type": "markdown",
   "metadata": {},
   "source": [
    "# 格式化\n",
    "- 把字符串按照一定格式进行打印或者填充\n",
    "- 格式化的分类：\n",
    "    - 传统格式化\n",
    "        - 使用%进行格式化\n",
    "        - % 也叫占位符\n",
    "           - %d    整数\n",
    "           - %f    浮点数\n",
    "           - %s    字符串\n",
    "           - %x    十六进制整数\n",
    "    - format"
   ]
  },
  {
   "cell_type": "code",
   "execution_count": 21,
   "metadata": {},
   "outputs": [
    {
     "name": "stdout",
     "output_type": "stream",
     "text": [
      "You are %s\n",
      "You are 沙雕\n",
      "You are 傻狗\n"
     ]
    }
   ],
   "source": [
    "# 传统格式化\n",
    "s = \"You are %s\"\n",
    "print(s)\n",
    "\n",
    "print(s%\"沙雕\")\n",
    "\n",
    "print(s%\"傻狗\")"
   ]
  },
  {
   "cell_type": "code",
   "execution_count": 1,
   "metadata": {},
   "outputs": [
    {
     "name": "stdout",
     "output_type": "stream",
     "text": [
      "章宇斌今年 21 岁了，他长得好做旧\n"
     ]
    }
   ],
   "source": [
    "s = \"章宇斌今年 %d 岁了，他长得好做旧\"\n",
    "print(s%21)"
   ]
  },
  {
   "cell_type": "code",
   "execution_count": 1,
   "metadata": {},
   "outputs": [
    {
     "name": "stdout",
     "output_type": "stream",
     "text": [
      "I am 59.60kg Weight, 1.75m Heigh\n"
     ]
    }
   ],
   "source": [
    "s = \"I am %.2fkg Weight, %.2fm Heigh\"\n",
    "print(s%(59.6,1.75))"
   ]
  },
  {
   "cell_type": "markdown",
   "metadata": {},
   "source": [
    "# format格式化\n",
    "-  使用函数形式进行格式化，替代以前的格式化\n",
    "- 用{}代替%，后面format带参数完成。"
   ]
  },
  {
   "cell_type": "code",
   "execution_count": 7,
   "metadata": {},
   "outputs": [
    {
     "name": "stdout",
     "output_type": "stream",
     "text": [
      "Hello world!\n",
      "Hello world!\n",
      "Hello world!\n",
      "我们是你爸爸，我们的网址是www.4399.com,尼玛咋地了\n"
     ]
    }
   ],
   "source": [
    "# 不用指定位置，按顺序读取\n",
    "# 方式1\n",
    "s = \"{} {}!\"\n",
    "print(s.format(\"Hello\", \"world\"))\n",
    "\n",
    "# 方式2\n",
    "s = \"{} {}!\".format(\"Hello\", \"world\")\n",
    "print(s)\n",
    "\n",
    "# 设置指定位置  顺序可以随意使用，重复使用\n",
    "s = \"{0} {1}!\".format(\"Hello\", \"world\")\n",
    "print(s)\n",
    "\n",
    "# 命名参数\n",
    "s = \"我们是{name}，我们的网址是{url},{who}咋地了\"\n",
    "s = s.format(name = \"你爸爸\",url = \"www.4399.com\",who = \"尼玛\")\n",
    "print(s)"
   ]
  },
  {
   "cell_type": "code",
   "execution_count": 1,
   "metadata": {},
   "outputs": [
    {
     "name": "stdout",
     "output_type": "stream",
     "text": [
      "我们是你爸爸，我们的网址是www.4399.com,尼玛咋地了\n"
     ]
    }
   ],
   "source": [
    "# 通过字典设置参数，需要解包\n",
    "s = \"我们是{name}，我们的网址是{url},{who}咋地了\"\n",
    "s_dict = {\"name\" : \"你爸爸\",\\\n",
    "          \"url\" : \"www.4399.com\",\\\n",
    "          \"who\" : \"尼玛\"}\n",
    "# **是解包操作\n",
    "s = s.format(**s_dict)\n",
    "print(s)"
   ]
  },
  {
   "cell_type": "code",
   "execution_count": 3,
   "metadata": {},
   "outputs": [
    {
     "name": "stdout",
     "output_type": "stream",
     "text": [
      "Zhang Yubin is 1.75m heigh, 59.5KG weight\n"
     ]
    }
   ],
   "source": [
    "# 对数字的格式化\n",
    "s = \"Zhang Yubin is {}m heigh, {}KG weight\"\n",
    "print(s.format(1.75,59.5))"
   ]
  },
  {
   "cell_type": "markdown",
   "metadata": {},
   "source": [
    "# str内置函数\n",
    "- python里用str表示字符串\n",
    "- 字符串查找类\n",
    "- find: 查找字符串中是否包含一个子串\n",
    "- index:跟find的唯一区别是找不到会引发异常\n",
    "- rfind,lfind:从右边或者左边开始查找"
   ]
  },
  {
   "cell_type": "code",
   "execution_count": 1,
   "metadata": {},
   "outputs": [
    {
     "name": "stdout",
     "output_type": "stream",
     "text": [
      "Help on method_descriptor:\n",
      "\n",
      "title(self, /)\n",
      "    Return a version of the string where each word is titlecased.\n",
      "    \n",
      "    More specifically, words start with uppercased characters and all remaining\n",
      "    cased characters have lower case.\n",
      "\n"
     ]
    }
   ],
   "source": [
    "help(str.title)"
   ]
  },
  {
   "cell_type": "markdown",
   "metadata": {},
   "source": [
    "# 判断类函数\n",
    "- 一般都是is开头，比如isslower\n",
    "- isalpha:判断是否是字母\n",
    "- isdigit,isnumrtic,is"
   ]
  },
  {
   "cell_type": "markdown",
   "metadata": {},
   "source": [
    " # 内容判断类\n",
    " - startswith / endswith :是否以xxx开头或者结尾\n",
    "    - 检测某个字符串是否以某个字符串开头\n",
    "    - suff: 被检测到的字符串，必须有\n",
    "    - start:检测范围的开头\n",
    "    - end: 检测范围的结尾\n",
    "    \n",
    "- islower / isupper:检测大写还是小写"
   ]
  },
  {
   "cell_type": "code",
   "execution_count": 1,
   "metadata": {},
   "outputs": [
    {
     "name": "stdout",
     "output_type": "stream",
     "text": [
      "True\n",
      "True\n"
     ]
    }
   ],
   "source": [
    "zyb = \"Zhang Yubin\"\n",
    "xjj = \"xjj\"\n",
    "\n",
    "s = \"Zhang Yubin like xjj\"\n",
    "\n",
    "print(s.startswith(zyb))\n",
    "print(s.endswith(xjj))"
   ]
  },
  {
   "cell_type": "markdown",
   "metadata": {},
   "source": [
    "# 操作类函数\n",
    "- format:格式化\n",
    "- strip: 删除字符串两边的空格\n",
    "- lstrip,rstrip 只删除左边后者右边的字符串\n",
    "- join: 对字符串进行拼接"
   ]
  },
  {
   "cell_type": "code",
   "execution_count": 8,
   "metadata": {},
   "outputs": [
    {
     "name": "stdout",
     "output_type": "stream",
     "text": [
      "ddddd lone wocao ------\n",
      "ddddd lone wocao------"
     ]
    }
   ],
   "source": [
    "c = \"ddddd lone wocao \"\n",
    "print(c, end=\"------\")\n",
    "print()\n",
    "print(c.strip(), end=\"------\")"
   ]
  },
  {
   "cell_type": "code",
   "execution_count": 17,
   "metadata": {},
   "outputs": [
    {
     "name": "stdout",
     "output_type": "stream",
     "text": [
      "Zhang Yubin-like-xjj\n",
      "Zhang Yubin&like&xjj\n"
     ]
    }
   ],
   "source": [
    "# join举例\n",
    "s1 = \"-\"\n",
    "s2 = \"&\"\n",
    "ss = [\"Zhang Yubin\",\"like\",\"xjj\"]\n",
    "\n",
    "print(s1.join(ss))\n",
    "print(s2.join(ss))"
   ]
  },
  {
   "cell_type": "markdown",
   "metadata": {},
   "source": [
    "# None\n",
    "- 表示什么都没有\n",
    "- 用来占位\n",
    "- 用来接触变量绑定\n",
    "- 如果没有返回值，可以返回None"
   ]
  },
  {
   "cell_type": "code",
   "execution_count": null,
   "metadata": {},
   "outputs": [],
   "source": []
  }
 ],
 "metadata": {
  "kernelspec": {
   "display_name": "Python 3",
   "language": "python",
   "name": "python3"
  },
  "language_info": {
   "codemirror_mode": {
    "name": "ipython",
    "version": 3
   },
   "file_extension": ".py",
   "mimetype": "text/x-python",
   "name": "python",
   "nbconvert_exporter": "python",
   "pygments_lexer": "ipython3",
   "version": "3.7.3"
  }
 },
 "nbformat": 4,
 "nbformat_minor": 2
}
