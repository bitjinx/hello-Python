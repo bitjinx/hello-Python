{
 "cells": [
  {
   "cell_type": "markdown",
   "metadata": {},
   "source": [
    "# 主要内容\n",
    "- jupyter notebook的用法\n",
    "- 变量"
   ]
  },
  {
   "cell_type": "code",
   "execution_count": 5,
   "metadata": {},
   "outputs": [
    {
     "name": "stdout",
     "output_type": "stream",
     "text": [
      "I Love WangMing\n"
     ]
    }
   ],
   "source": [
    "print(\"I Love WangMing\")"
   ]
  },
  {
   "cell_type": "code",
   "execution_count": 7,
   "metadata": {},
   "outputs": [],
   "source": [
    "#声明的三种格式\n",
    "#格式1\n",
    "s1 = \"傻狗\"\n",
    "\n",
    "#格式2\n",
    "s2 = s1 = \"大沙雕\"\n",
    "\n",
    "#格式3\n",
    "s1,s2,s3 = \"111\",\"222\",\"333\""
   ]
  },
  {
   "cell_type": "markdown",
   "metadata": {},
   "source": [
    "# 表达式\n",
    "- 由一个或者几个数字或者变量或者运算符合成第一行代码\n"
   ]
  },
  {
   "cell_type": "code",
   "execution_count": 9,
   "metadata": {},
   "outputs": [
    {
     "name": "stdout",
     "output_type": "stream",
     "text": [
      "3\n",
      "-3\n"
     ]
    }
   ],
   "source": [
    "# 表达式案例\n",
    "a = 1 + 2\n",
    "print(a)\n",
    "\n",
    "# 理解负数取余\n",
    "# (q-x) / (-4)\n",
    "# 当a是负数的时候，我们上面说了，会向下取整，也就是说向负无穷方向取整。\n",
    "a = 9 % -4\n",
    "print(a)"
   ]
  },
  {
   "cell_type": "markdown",
   "metadata": {},
   "source": [
    "# 运算符\n",
    "- 分类\n",
    "    - 算术运算符\n",
    "    - 比较或者关系运算符\n",
    "    - 赋值运算符\n",
    "    - 逻辑运算符\n",
    "    - 逻辑运算符\n",
    "    - 位运算\n",
    "    - 成员运算\n",
    "    - 身份运算"
   ]
  },
  {
   "cell_type": "markdown",
   "metadata": {},
   "source": [
    "# 赋值运算符\n"
   ]
  },
  {
   "cell_type": "code",
   "execution_count": 10,
   "metadata": {},
   "outputs": [
    {
     "name": "stdout",
     "output_type": "stream",
     "text": [
      "0\n"
     ]
    }
   ],
   "source": [
    "# 赋值符号\n",
    "a = 9\n",
    "\n",
    "# 复杂赋值\n",
    "a = b = 9\n",
    "a,b = 1,2\n",
    "\n",
    "# 赋值的缩写\n",
    "cc = 0\n",
    "cc == cc + 3\n",
    "print(cc)\n",
    "\n",
    "# 注意下面符号仅仅是一个缩写\n",
    "cc += 3  # cc = cc + 3\n"
   ]
  },
  {
   "cell_type": "markdown",
   "metadata": {},
   "source": [
    "# 逻辑运算符\n",
    "- 布尔类型\n",
    "- and: 与\n",
    "- or: 或\n",
    "- not: 非"
   ]
  },
  {
   "cell_type": "code",
   "execution_count": 13,
   "metadata": {},
   "outputs": [
    {
     "name": "stdout",
     "output_type": "stream",
     "text": [
      "True\n",
      "False\n",
      "********************\n"
     ]
    }
   ],
   "source": [
    "# 逻辑表达式\n",
    "a = True\n",
    "b = True\n",
    "c = False\n",
    "\n",
    "aa = a and b # 左边表达式可以转化成 1*1\n",
    "print(aa)\n",
    "\n",
    "bb = a and c\n",
    "print(bb)\n",
    "\n",
    "# 字符串乘以数字，表示这个字符串重复多少遍\n",
    "print(\"*\" * 20)"
   ]
  },
  {
   "cell_type": "markdown",
   "metadata": {},
   "source": [
    "# 成员运算符\n",
    "-  用来检测一个值是否在某个集合里面\n",
    "- in: 成员运算符\n",
    "- not in: 不在里面的意思\n",
    "\n",
    "# 身份运算符\n",
    "- 用来确定两个变量是不是同一变量\n",
    "- is;是同一变量\n",
    "- not is;不是同一变量\n",
    "\n",
    "- 小一点的数字python已经指定好存储占位 :-5—256之间"
   ]
  },
  {
   "cell_type": "code",
   "execution_count": 15,
   "metadata": {},
   "outputs": [],
   "source": [
    "# in案例\n",
    "L = [1,2,3,4,5]\n",
    "a =6\n",
    "aa = a in L"
   ]
  },
  {
   "cell_type": "code",
   "execution_count": 1,
   "metadata": {},
   "outputs": [
    {
     "name": "stdout",
     "output_type": "stream",
     "text": [
      "True\n",
      "False\n"
     ]
    }
   ],
   "source": [
    "# is案例\n",
    "a = 9 \n",
    "b = 9\n",
    "print(a is b)\n",
    "\n",
    "a = \"nmsl\"\n",
    "b = \"cnm\"\n",
    "print(a is b)"
   ]
  },
  {
   "cell_type": "markdown",
   "metadata": {},
   "source": [
    "# 运算符优先级问题\n",
    "- 小括号具有最高优先级\n",
    "\n",
    "\n",
    "     **  指数 (最高优先级)\n",
    "     ~ + -按位翻转, 一元加号和减号 (最后两个的方法名为 +@ 和 -@)\n",
    "     * / % // 乘，除，取模和取整除\n",
    "     + - 加法减法\n",
    "     >> << 右移，左移运算符\n",
    "     & 位 'AND'\n",
    "     ^ | 位运算符\n",
    "     <= < > >= 比较运算符\n",
    "     <> == != 等于运算符\n",
    "     = %= /= //= -= += *= **=  赋值运算符\n",
    "     is is not  身份运算符\n",
    "     in not in  成员运算符\n",
    "     not or and  逻辑运算符"
   ]
  },
  {
   "cell_type": "markdown",
   "metadata": {},
   "source": []
  }
 ],
 "metadata": {
  "kernelspec": {
   "display_name": "Python 3",
   "language": "python",
   "name": "python3"
  },
  "language_info": {
   "codemirror_mode": {
    "name": "ipython",
    "version": 3
   },
   "file_extension": ".py",
   "mimetype": "text/x-python",
   "name": "python",
   "nbconvert_exporter": "python",
   "pygments_lexer": "ipython3",
   "version": "3.7.3"
  }
 },
 "nbformat": 4,
 "nbformat_minor": 2
}
